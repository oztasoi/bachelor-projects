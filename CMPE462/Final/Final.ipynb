{
 "cells": [
  {
   "cell_type": "markdown",
   "metadata": {},
   "source": [
    "# CmpE 462 Spring - 2020 Final Report"
   ]
  },
  {
   "cell_type": "markdown",
   "metadata": {},
   "source": [
    "## Question 1:"
   ]
  },
  {
   "cell_type": "markdown",
   "metadata": {},
   "source": [
    "### Given implementation:"
   ]
  },
  {
   "cell_type": "code",
   "execution_count": 1,
   "metadata": {
    "tags": []
   },
   "outputs": [],
   "source": [
    "import numpy as np\n",
    "\n",
    "train_data = np.load('train_data1.npy')\n",
    "train_label = np.load('train_label1.npy')\n",
    "test_data = np.load('test_data1.npy')\n",
    "test_label = np.load('test_label1.npy')"
   ]
  },
  {
   "cell_type": "code",
   "execution_count": 2,
   "metadata": {
    "tags": []
   },
   "outputs": [
    {
     "output_type": "stream",
     "name": "stdout",
     "text": "0.59\n"
    }
   ],
   "source": [
    "import numpy as np\n",
    "from sklearn import svm\n",
    "\n",
    "clf = svm.SVC(gamma=0.001, C=100.)\n",
    "clf.fit(train_data, train_label)\n",
    "y_pred = clf.predict(test_data)\n",
    "correct_prediction = np.equal(y_pred, test_label)\n",
    "accuracy = np.mean(correct_prediction.astype(np.float32))\n",
    "print(accuracy)"
   ]
  },
  {
   "cell_type": "code",
   "execution_count": 3,
   "metadata": {
    "tags": []
   },
   "outputs": [
    {
     "output_type": "stream",
     "name": "stdout",
     "text": "(1600, 50)\n(1600,)\n(400, 50)\n(400,)\n(2000, 50)\n(2000,)\n"
    }
   ],
   "source": [
    "print(train_data.shape)\n",
    "print(train_label.shape)\n",
    "print(test_data.shape)\n",
    "print(test_label.shape)\n",
    "\n",
    "raw_data = np.concatenate((train_data, test_data), axis=0)\n",
    "raw_label = np.concatenate((train_label, test_label), axis=0)\n",
    "\n",
    "print(raw_data.shape)\n",
    "print(raw_label.shape)"
   ]
  },
  {
   "cell_type": "code",
   "execution_count": 4,
   "metadata": {},
   "outputs": [],
   "source": [
    "def merge(kits, count):\n",
    "    merged = []\n",
    "    for i in range(len(kits)):\n",
    "        if i != count - 1:\n",
    "            merged = merged + kits[i]\n",
    "    return np.array(merged)"
   ]
  },
  {
   "cell_type": "code",
   "execution_count": 5,
   "metadata": {},
   "outputs": [],
   "source": [
    "def random_shuffle(data, label, seed):\n",
    "    np.random.seed(seed)\n",
    "\n",
    "    data_kits = []\n",
    "    data_kits.append([])\n",
    "    data_kits.append([])\n",
    "    data_kits.append([])\n",
    "    data_kits.append([])\n",
    "    data_kits.append([])\n",
    "\n",
    "    label_kits = []\n",
    "    label_kits.append([])\n",
    "    label_kits.append([])\n",
    "    label_kits.append([])\n",
    "    label_kits.append([])\n",
    "    label_kits.append([])\n",
    "\n",
    "    selected = []\n",
    "\n",
    "    for i in range(data.shape[0]):\n",
    "        index = np.random.randint(0, high=2000)\n",
    "        while(index in selected):\n",
    "            index = np.random.randint(0, high=2000)\n",
    "        data_kits[i%5].append(data[index])\n",
    "        label_kits[i%5].append(label[index])\n",
    "        selected.append(index)\n",
    "    return ( data_kits, label_kits )"
   ]
  },
  {
   "cell_type": "code",
   "execution_count": 6,
   "metadata": {
    "tags": []
   },
   "outputs": [
    {
     "output_type": "stream",
     "name": "stdout",
     "text": "(0.7425, 77, 4)\n"
    }
   ],
   "source": [
    "max_acc = (0, 0, 0)\n",
    "\n",
    "for j in range(0, 100):\n",
    "    raw_kits = random_shuffle(raw_data, raw_label, j)\n",
    "    raw_data_kits = raw_kits[0]\n",
    "    raw_label_kits = raw_kits[1]\n",
    "\n",
    "    for i in range(5):\n",
    "        tr_data = merge(raw_data_kits, i+1)\n",
    "        tr_label = merge(raw_label_kits, i+1)\n",
    "\n",
    "        te_data = raw_data_kits[i]\n",
    "        te_label = raw_label_kits[i]\n",
    "\n",
    "        clf = svm.SVC(gamma=0.001, C=100.)\n",
    "        clf.fit(tr_data, tr_label)\n",
    "        y_pred = clf.predict(te_data)\n",
    "        correct_prediction = np.equal(y_pred, te_label)\n",
    "        accuracy = np.mean(correct_prediction.astype(np.float32))\n",
    "        if max_acc[0] < accuracy:\n",
    "            max_acc = (accuracy, j, i)\n",
    "\n",
    "print(max_acc)"
   ]
  },
  {
   "cell_type": "code",
   "execution_count": 7,
   "metadata": {},
   "outputs": [],
   "source": [
    "def random_shuffle_10(data, label, seed):\n",
    "    np.random.seed(seed)\n",
    "\n",
    "    data_kits = []\n",
    "    data_kits.append([])\n",
    "    data_kits.append([])\n",
    "    data_kits.append([])\n",
    "    data_kits.append([])\n",
    "    data_kits.append([])\n",
    "    data_kits.append([])\n",
    "    data_kits.append([])\n",
    "    data_kits.append([])\n",
    "    data_kits.append([])\n",
    "    data_kits.append([])\n",
    "\n",
    "    label_kits = []\n",
    "    label_kits.append([])\n",
    "    label_kits.append([])\n",
    "    label_kits.append([])\n",
    "    label_kits.append([])\n",
    "    label_kits.append([])\n",
    "    label_kits.append([])\n",
    "    label_kits.append([])\n",
    "    label_kits.append([])\n",
    "    label_kits.append([])\n",
    "    label_kits.append([])\n",
    "\n",
    "    selected = []\n",
    "\n",
    "    for i in range(data.shape[0]):\n",
    "        index = np.random.randint(0, high=2000)\n",
    "        while(index in selected):\n",
    "            index = np.random.randint(0, high=2000)\n",
    "        data_kits[i%10].append(data[index])\n",
    "        label_kits[i%10].append(label[index])\n",
    "        selected.append(index)\n",
    "    return ( data_kits, label_kits )"
   ]
  },
  {
   "cell_type": "code",
   "execution_count": 8,
   "metadata": {
    "tags": []
   },
   "outputs": [
    {
     "output_type": "stream",
     "name": "stdout",
     "text": "(0.77, 86, 2)\n"
    }
   ],
   "source": [
    "max_acc = (0, 0, 0)\n",
    "\n",
    "for j in range(0, 100):\n",
    "\n",
    "    raw_kits = random_shuffle_10(raw_data, raw_label, j)\n",
    "    raw_data_kits = raw_kits[0]\n",
    "    raw_label_kits = raw_kits[1]\n",
    "\n",
    "    for i in range(10):\n",
    "        tr_data = merge(raw_data_kits, i+1)\n",
    "        tr_label = merge(raw_label_kits, i+1)\n",
    "\n",
    "        te_data = raw_data_kits[i]\n",
    "        te_label = raw_label_kits[i]\n",
    "\n",
    "        clf = svm.SVC(gamma=0.001, C=100.)\n",
    "        clf.fit(tr_data, tr_label)\n",
    "        y_pred = clf.predict(te_data)\n",
    "        correct_prediction = np.equal(y_pred, te_label)\n",
    "        accuracy = np.mean(correct_prediction.astype(np.float32))\n",
    "        if max_acc[0] < accuracy:\n",
    "            max_acc = (accuracy, j, i)\n",
    "print(max_acc)"
   ]
  },
  {
   "cell_type": "code",
   "execution_count": null,
   "metadata": {
    "tags": []
   },
   "outputs": [],
   "source": [
    "X_train = np.load('data2.npy')\n",
    "\n",
    "import matplotlib.pyplot as plt\n",
    "plt.figure(figsize=(10, 10))\n",
    "plt.scatter(X_train[:, 0], X_train[:, 1], c=\"b\")\n",
    "plt.show()"
   ]
  },
  {
   "cell_type": "code",
   "execution_count": null,
   "metadata": {},
   "outputs": [],
   "source": [
    "def k_means(n,seed):\n",
    "    np.random.seed(seed)\n",
    "    min_x = min(X_train[:,0])\n",
    "    min_y = min(X_train[:,1])\n",
    "    range_x = (max(X_train[:,0]) - min(X_train[:,0]))\n",
    "    range_y = (max(X_train[:,1]) - min(X_train[:,1]))\n",
    "    c_1 = [min_x + range_x*np.random.rand() , min_y + range_y*np.random.rand()]\n",
    "    c_2 = [min_x + range_x*np.random.rand() , min_y + range_y*np.random.rand()]\n",
    "    c_3 = [min_x + range_x*np.random.rand() , min_y + range_y*np.random.rand()]\n",
    "    for j in range(n):\n",
    "        y_pred= np.zeros(len(X_train))\n",
    "        for i in range(len(X_train)):          \n",
    "            c_1_dist = np.linalg.norm(X_train[i] - c_1)\n",
    "            c_2_dist = np.linalg.norm(X_train[i] - c_2)\n",
    "            c_3_dist = np.linalg.norm(X_train[i] - c_3)\n",
    "            min_norm = min(c_1_dist,c_2_dist,c_3_dist)\n",
    "            if(min_norm==c_1_dist):\n",
    "                y_pred[i]=0\n",
    "            elif(min_norm==c_2_dist):\n",
    "                y_pred[i]=1\n",
    "            else:\n",
    "                y_pred[i]=2\n",
    "        c_1=[np.sum(X_train[y_pred==0][:,0])/len(y_pred[y_pred==0]),np.sum(X_train[y_pred==0][:,1])/len(y_pred[y_pred==0])]\n",
    "        c_2=[np.sum(X_train[y_pred==1][:,0])/len(y_pred[y_pred==1]),np.sum(X_train[y_pred==1][:,1])/len(y_pred[y_pred==1])]\n",
    "        c_3=[np.sum(X_train[y_pred==2][:,0])/len(y_pred[y_pred==2]),np.sum(X_train[y_pred==2][:,1])/len(y_pred[y_pred==2])]\n",
    "    return y_pred"
   ]
  },
  {
   "cell_type": "code",
   "execution_count": null,
   "metadata": {},
   "outputs": [],
   "source": [
    "fig = plt.figure(figsize=(10,10))\n",
    "output_list = []\n",
    "for i in range(9):\n",
    "    a = k_means(i+1,1)\n",
    "    output_list.append(a)\n",
    "    fig.add_subplot(3,3,i+1)\n",
    "    plt.scatter(X_train[a == 0][:,0],X_train[a == 0][:,1],c=\"r\")\n",
    "    plt.scatter(X_train[a == 1][:,0],X_train[a == 1][:,1],c=\"b\")\n",
    "    plt.scatter(X_train[a == 2][:,0],X_train[a == 2][:,1],c=\"g\")\n",
    "plt.show()"
   ]
  },
  {
   "cell_type": "code",
   "execution_count": null,
   "metadata": {
    "tags": []
   },
   "outputs": [],
   "source": [
    "def same(it1, it2):\n",
    "    isSame = True\n",
    "    for i in range(1000):\n",
    "        if output_list[it1-1][i] != output_list[it2-1][i]:\n",
    "            isSame = False\n",
    "    return isSame"
   ]
  },
  {
   "cell_type": "code",
   "execution_count": null,
   "metadata": {
    "tags": []
   },
   "outputs": [],
   "source": [
    "print(same(1, 2))\n",
    "print(same(2, 3))\n",
    "print(same(3, 4))\n",
    "print(same(4, 5))\n",
    "print(same(5, 6))\n",
    "print(same(6, 7))\n",
    "print(same(7, 8)) # It seems that after the 7th iteration, the labels are stable.\n",
    "print(same(8, 9))"
   ]
  },
  {
   "cell_type": "code",
   "execution_count": null,
   "metadata": {},
   "outputs": [],
   "source": [
    "def shuffle(X_train):\n",
    "    data_kits = []\n",
    "    data_kits.append([])\n",
    "    data_kits.append([])\n",
    "    data_kits.append([])\n",
    "    data_kits.append([])\n",
    "    data_kits.append([])\n",
    "    for i in range(len(X_train)):\n",
    "        if i % 5 == 0:\n",
    "            data_kits[0].append(X_train[i])\n",
    "        if i % 5 == 1:\n",
    "            data_kits[1].append(X_train[i])\n",
    "        if i % 5 == 2:\n",
    "            data_kits[2].append(X_train[i])\n",
    "        if i % 5 == 3:\n",
    "            data_kits[3].append(X_train[i])\n",
    "        if i % 5 == 4:\n",
    "            data_kits[4].append(X_train[i])\n",
    "    return data_kits\n",
    "\n",
    "def merge(kits, count):\n",
    "    merged = []\n",
    "    for i in range(len(kits)):\n",
    "        if i != count - 1:\n",
    "            merged = merged + kits[i]\n",
    "    return np.array(merged)"
   ]
  },
  {
   "cell_type": "code",
   "execution_count": null,
   "metadata": {
    "tags": []
   },
   "outputs": [],
   "source": [
    "labels = output_list[6]\n",
    "shuf_data = shuffle(X_train)\n",
    "shuf_label = shuffle(labels)"
   ]
  },
  {
   "cell_type": "code",
   "execution_count": null,
   "metadata": {},
   "outputs": [],
   "source": [
    "q2_train_data = merge(shuf_data, 5)\n",
    "q2_train_label = merge(shuf_label, 5)\n",
    "\n",
    "q2_test_data = shuf_data[4]\n",
    "q2_test_label = shuf_label[4]"
   ]
  },
  {
   "cell_type": "code",
   "execution_count": null,
   "metadata": {
    "tags": []
   },
   "outputs": [],
   "source": [
    "import numpy as np\n",
    "from sklearn import svm\n",
    "\n",
    "clf = svm.SVC(gamma=0.001, C=100.)\n",
    "clf.fit(q2_train_data, q2_train_label)\n",
    "y_pred = clf.predict(q2_test_data)\n",
    "correct_prediction = np.equal(y_pred, q2_test_label)\n",
    "accuracy = np.mean(correct_prediction.astype(np.float32))\n",
    "print(accuracy)"
   ]
  },
  {
   "cell_type": "code",
   "execution_count": null,
   "metadata": {
    "tags": []
   },
   "outputs": [],
   "source": [
    "plt.figure(figsize=(18,18))\n",
    "plt.scatter(train_data[train_label == 0][:, 0], [-1] * len(train_data[train_label == 0][:, 0]), c=[\"#\"+''.join([random.choice('0123456789ABCDEF') for j in range(6)])])\n",
    "plt.scatter(train_data[train_label == 0][:, 1], [-2] * len(train_data[train_label == 0][:, 1]), c=[\"#\"+''.join([random.choice('0123456789ABCDEF') for j in range(6)])])\n",
    "plt.scatter(train_data[train_label == 0][:, 2], [-3] * len(train_data[train_label == 0][:, 2]), c=[\"#\"+''.join([random.choice('0123456789ABCDEF') for j in range(6)])])\n",
    "plt.scatter(train_data[train_label == 0][:, 3], [-4] * len(train_data[train_label == 0][:, 3]), c=[\"#\"+''.join([random.choice('0123456789ABCDEF') for j in range(6)])])\n",
    "plt.scatter(train_data[train_label == 0][:, 4], [-5] * len(train_data[train_label == 0][:, 4]), c=[\"#\"+''.join([random.choice('0123456789ABCDEF') for j in range(6)])])\n",
    "plt.scatter(train_data[train_label == 0][:, 5], [-6] * len(train_data[train_label == 0][:, 5]), c=[\"#\"+''.join([random.choice('0123456789ABCDEF') for j in range(6)])])\n",
    "plt.scatter(train_data[train_label == 0][:, 6], [-7] * len(train_data[train_label == 0][:, 6]), c=[\"#\"+''.join([random.choice('0123456789ABCDEF') for j in range(6)])])\n",
    "plt.scatter(train_data[train_label == 0][:, 7], [-8] * len(train_data[train_label == 0][:, 7]), c=[\"#\"+''.join([random.choice('0123456789ABCDEF') for j in range(6)])])\n",
    "plt.scatter(train_data[train_label == 0][:, 8], [-9] * len(train_data[train_label == 0][:, 8]), c=[\"#\"+''.join([random.choice('0123456789ABCDEF') for j in range(6)])])\n",
    "plt.scatter(train_data[train_label == 0][:, 9], [-10] * len(train_data[train_label == 0][:, 9]), c=[\"#\"+''.join([random.choice('0123456789ABCDEF') for j in range(6)])])\n",
    "plt.scatter(train_data[train_label == 0][:, 0], [-11] * len(train_data[train_label == 0][:, 10]), c=[\"#\"+''.join([random.choice('0123456789ABCDEF') for j in range(6)])])\n",
    "plt.scatter(train_data[train_label == 0][:, 1], [-12] * len(train_data[train_label == 0][:, 11]), c=[\"#\"+''.join([random.choice('0123456789ABCDEF') for j in range(6)])])\n",
    "plt.scatter(train_data[train_label == 0][:, 2], [-13] * len(train_data[train_label == 0][:, 12]), c=[\"#\"+''.join([random.choice('0123456789ABCDEF') for j in range(6)])])\n",
    "plt.scatter(train_data[train_label == 0][:, 3], [-14] * len(train_data[train_label == 0][:, 13]), c=[\"#\"+''.join([random.choice('0123456789ABCDEF') for j in range(6)])])\n",
    "plt.scatter(train_data[train_label == 0][:, 4], [-15] * len(train_data[train_label == 0][:, 14]), c=[\"#\"+''.join([random.choice('0123456789ABCDEF') for j in range(6)])])\n",
    "plt.scatter(train_data[train_label == 0][:, 5], [-16] * len(train_data[train_label == 0][:, 15]), c=[\"#\"+''.join([random.choice('0123456789ABCDEF') for j in range(6)])])\n",
    "plt.scatter(train_data[train_label == 0][:, 6], [-17] * len(train_data[train_label == 0][:, 16]), c=[\"#\"+''.join([random.choice('0123456789ABCDEF') for j in range(6)])])\n",
    "plt.scatter(train_data[train_label == 0][:, 7], [-18] * len(train_data[train_label == 0][:, 17]), c=[\"#\"+''.join([random.choice('0123456789ABCDEF') for j in range(6)])])\n",
    "plt.scatter(train_data[train_label == 0][:, 8], [-19] * len(train_data[train_label == 0][:, 18]), c=[\"#\"+''.join([random.choice('0123456789ABCDEF') for j in range(6)])])\n",
    "plt.scatter(train_data[train_label == 0][:, 9], [-20] * len(train_data[train_label == 0][:, 19]), c=[\"#\"+''.join([random.choice('0123456789ABCDEF') for j in range(6)])])\n",
    "plt.scatter(train_data[train_label == 0][:, 0], [-21] * len(train_data[train_label == 0][:, 20]), c=[\"#\"+''.join([random.choice('0123456789ABCDEF') for j in range(6)])])\n",
    "plt.scatter(train_data[train_label == 0][:, 1], [-22] * len(train_data[train_label == 0][:, 21]), c=[\"#\"+''.join([random.choice('0123456789ABCDEF') for j in range(6)])])\n",
    "plt.scatter(train_data[train_label == 0][:, 2], [-23] * len(train_data[train_label == 0][:, 22]), c=[\"#\"+''.join([random.choice('0123456789ABCDEF') for j in range(6)])])\n",
    "plt.scatter(train_data[train_label == 0][:, 3], [-24] * len(train_data[train_label == 0][:, 23]), c=[\"#\"+''.join([random.choice('0123456789ABCDEF') for j in range(6)])])\n",
    "plt.scatter(train_data[train_label == 0][:, 4], [-25] * len(train_data[train_label == 0][:, 24]), c=[\"#\"+''.join([random.choice('0123456789ABCDEF') for j in range(6)])])\n",
    "plt.scatter(train_data[train_label == 0][:, 5], [-26] * len(train_data[train_label == 0][:, 25]), c=[\"#\"+''.join([random.choice('0123456789ABCDEF') for j in range(6)])])\n",
    "plt.scatter(train_data[train_label == 0][:, 6], [-27] * len(train_data[train_label == 0][:, 26]), c=[\"#\"+''.join([random.choice('0123456789ABCDEF') for j in range(6)])])\n",
    "plt.scatter(train_data[train_label == 0][:, 7], [-28] * len(train_data[train_label == 0][:, 27]), c=[\"#\"+''.join([random.choice('0123456789ABCDEF') for j in range(6)])])\n",
    "plt.scatter(train_data[train_label == 0][:, 8], [-29] * len(train_data[train_label == 0][:, 28]), c=[\"#\"+''.join([random.choice('0123456789ABCDEF') for j in range(6)])])\n",
    "plt.scatter(train_data[train_label == 0][:, 9], [-30] * len(train_data[train_label == 0][:, 29]), c=[\"#\"+''.join([random.choice('0123456789ABCDEF') for j in range(6)])])\n",
    "plt.scatter(train_data[train_label == 0][:, 0], [-31] * len(train_data[train_label == 0][:, 30]), c=[\"#\"+''.join([random.choice('0123456789ABCDEF') for j in range(6)])])\n",
    "plt.scatter(train_data[train_label == 0][:, 1], [-32] * len(train_data[train_label == 0][:, 31]), c=[\"#\"+''.join([random.choice('0123456789ABCDEF') for j in range(6)])])\n",
    "plt.scatter(train_data[train_label == 0][:, 2], [-33] * len(train_data[train_label == 0][:, 32]), c=[\"#\"+''.join([random.choice('0123456789ABCDEF') for j in range(6)])])\n",
    "plt.scatter(train_data[train_label == 0][:, 3], [-34] * len(train_data[train_label == 0][:, 33]), c=[\"#\"+''.join([random.choice('0123456789ABCDEF') for j in range(6)])])\n",
    "plt.scatter(train_data[train_label == 0][:, 4], [-35] * len(train_data[train_label == 0][:, 34]), c=[\"#\"+''.join([random.choice('0123456789ABCDEF') for j in range(6)])])\n",
    "plt.scatter(train_data[train_label == 0][:, 5], [-36] * len(train_data[train_label == 0][:, 35]), c=[\"#\"+''.join([random.choice('0123456789ABCDEF') for j in range(6)])])\n",
    "plt.scatter(train_data[train_label == 0][:, 6], [-37] * len(train_data[train_label == 0][:, 36]), c=[\"#\"+''.join([random.choice('0123456789ABCDEF') for j in range(6)])])\n",
    "plt.scatter(train_data[train_label == 0][:, 7], [-38] * len(train_data[train_label == 0][:, 37]), c=[\"#\"+''.join([random.choice('0123456789ABCDEF') for j in range(6)])])\n",
    "plt.scatter(train_data[train_label == 0][:, 8], [-39] * len(train_data[train_label == 0][:, 38]), c=[\"#\"+''.join([random.choice('0123456789ABCDEF') for j in range(6)])])\n",
    "plt.scatter(train_data[train_label == 0][:, 9], [-40] * len(train_data[train_label == 0][:, 39]), c=[\"#\"+''.join([random.choice('0123456789ABCDEF') for j in range(6)])])\n",
    "plt.scatter(train_data[train_label == 0][:, 0], [-41] * len(train_data[train_label == 0][:, 40]), c=[\"#\"+''.join([random.choice('0123456789ABCDEF') for j in range(6)])])\n",
    "plt.scatter(train_data[train_label == 0][:, 1], [-42] * len(train_data[train_label == 0][:, 41]), c=[\"#\"+''.join([random.choice('0123456789ABCDEF') for j in range(6)])])\n",
    "plt.scatter(train_data[train_label == 0][:, 2], [-43] * len(train_data[train_label == 0][:, 42]), c=[\"#\"+''.join([random.choice('0123456789ABCDEF') for j in range(6)])])\n",
    "plt.scatter(train_data[train_label == 0][:, 3], [-44] * len(train_data[train_label == 0][:, 43]), c=[\"#\"+''.join([random.choice('0123456789ABCDEF') for j in range(6)])])\n",
    "plt.scatter(train_data[train_label == 0][:, 4], [-45] * len(train_data[train_label == 0][:, 44]), c=[\"#\"+''.join([random.choice('0123456789ABCDEF') for j in range(6)])])\n",
    "plt.scatter(train_data[train_label == 0][:, 5], [-46] * len(train_data[train_label == 0][:, 45]), c=[\"#\"+''.join([random.choice('0123456789ABCDEF') for j in range(6)])])\n",
    "plt.scatter(train_data[train_label == 0][:, 6], [-47] * len(train_data[train_label == 0][:, 46]), c=[\"#\"+''.join([random.choice('0123456789ABCDEF') for j in range(6)])])\n",
    "plt.scatter(train_data[train_label == 0][:, 7], [-48] * len(train_data[train_label == 0][:, 47]), c=[\"#\"+''.join([random.choice('0123456789ABCDEF') for j in range(6)])])\n",
    "plt.scatter(train_data[train_label == 0][:, 8], [-49] * len(train_data[train_label == 0][:, 48]), c=[\"#\"+''.join([random.choice('0123456789ABCDEF') for j in range(6)])])\n",
    "plt.scatter(train_data[train_label == 0][:, 9], [-50] * len(train_data[train_label == 0][:, 49]), c=[\"#\"+''.join([random.choice('0123456789ABCDEF') for j in range(6)])])\n",
    "plt.scatter(train_data[train_label == 1][:, 0], [1] * len(train_data[train_label == 1][:, 0]), c=[\"#\"+''.join([random.choice('0123456789ABCDEF') for j in range(6)])])\n",
    "plt.scatter(train_data[train_label == 1][:, 1], [2] * len(train_data[train_label == 1][:, 1]), c=[\"#\"+''.join([random.choice('0123456789ABCDEF') for j in range(6)])])\n",
    "plt.scatter(train_data[train_label == 1][:, 2], [3] * len(train_data[train_label == 1][:, 2]), c=[\"#\"+''.join([random.choice('0123456789ABCDEF') for j in range(6)])])\n",
    "plt.scatter(train_data[train_label == 1][:, 3], [4] * len(train_data[train_label == 1][:, 3]), c=[\"#\"+''.join([random.choice('0123456789ABCDEF') for j in range(6)])])\n",
    "plt.scatter(train_data[train_label == 1][:, 4], [5] * len(train_data[train_label == 1][:, 4]), c=[\"#\"+''.join([random.choice('0123456789ABCDEF') for j in range(6)])])\n",
    "plt.scatter(train_data[train_label == 1][:, 5], [6] * len(train_data[train_label == 1][:, 5]), c=[\"#\"+''.join([random.choice('0123456789ABCDEF') for j in range(6)])])\n",
    "plt.scatter(train_data[train_label == 1][:, 6], [7] * len(train_data[train_label == 1][:, 6]), c=[\"#\"+''.join([random.choice('0123456789ABCDEF') for j in range(6)])])\n",
    "plt.scatter(train_data[train_label == 1][:, 7], [8] * len(train_data[train_label == 1][:, 7]), c=[\"#\"+''.join([random.choice('0123456789ABCDEF') for j in range(6)])])\n",
    "plt.scatter(train_data[train_label == 1][:, 8], [9] * len(train_data[train_label == 1][:, 8]), c=[\"#\"+''.join([random.choice('0123456789ABCDEF') for j in range(6)])])\n",
    "plt.scatter(train_data[train_label == 1][:, 9], [10] * len(train_data[train_label == 1][:, 9]), c=[\"#\"+''.join([random.choice('0123456789ABCDEF') for j in range(6)])])\n",
    "plt.scatter(train_data[train_label == 1][:, 0], [11] * len(train_data[train_label == 1][:, 10]), c=[\"#\"+''.join([random.choice('0123456789ABCDEF') for j in range(6)])])\n",
    "plt.scatter(train_data[train_label == 1][:, 1], [12] * len(train_data[train_label == 1][:, 11]), c=[\"#\"+''.join([random.choice('0123456789ABCDEF') for j in range(6)])])\n",
    "plt.scatter(train_data[train_label == 1][:, 2], [13] * len(train_data[train_label == 1][:, 12]), c=[\"#\"+''.join([random.choice('0123456789ABCDEF') for j in range(6)])])\n",
    "plt.scatter(train_data[train_label == 1][:, 3], [14] * len(train_data[train_label == 1][:, 13]), c=[\"#\"+''.join([random.choice('0123456789ABCDEF') for j in range(6)])])\n",
    "plt.scatter(train_data[train_label == 1][:, 4], [15] * len(train_data[train_label == 1][:, 14]), c=[\"#\"+''.join([random.choice('0123456789ABCDEF') for j in range(6)])])\n",
    "plt.scatter(train_data[train_label == 1][:, 5], [16] * len(train_data[train_label == 1][:, 15]), c=[\"#\"+''.join([random.choice('0123456789ABCDEF') for j in range(6)])])\n",
    "plt.scatter(train_data[train_label == 1][:, 6], [17] * len(train_data[train_label == 1][:, 16]), c=[\"#\"+''.join([random.choice('0123456789ABCDEF') for j in range(6)])])\n",
    "plt.scatter(train_data[train_label == 1][:, 7], [18] * len(train_data[train_label == 1][:, 17]), c=[\"#\"+''.join([random.choice('0123456789ABCDEF') for j in range(6)])])\n",
    "plt.scatter(train_data[train_label == 1][:, 8], [19] * len(train_data[train_label == 1][:, 18]), c=[\"#\"+''.join([random.choice('0123456789ABCDEF') for j in range(6)])])\n",
    "plt.scatter(train_data[train_label == 1][:, 9], [20] * len(train_data[train_label == 1][:, 19]), c=[\"#\"+''.join([random.choice('0123456789ABCDEF') for j in range(6)])])\n",
    "plt.scatter(train_data[train_label == 1][:, 0], [21] * len(train_data[train_label == 1][:, 20]), c=[\"#\"+''.join([random.choice('0123456789ABCDEF') for j in range(6)])])\n",
    "plt.scatter(train_data[train_label == 1][:, 1], [22] * len(train_data[train_label == 1][:, 21]), c=[\"#\"+''.join([random.choice('0123456789ABCDEF') for j in range(6)])])\n",
    "plt.scatter(train_data[train_label == 1][:, 2], [23] * len(train_data[train_label == 1][:, 22]), c=[\"#\"+''.join([random.choice('0123456789ABCDEF') for j in range(6)])])\n",
    "plt.scatter(train_data[train_label == 1][:, 3], [24] * len(train_data[train_label == 1][:, 23]), c=[\"#\"+''.join([random.choice('0123456789ABCDEF') for j in range(6)])])\n",
    "plt.scatter(train_data[train_label == 1][:, 4], [25] * len(train_data[train_label == 1][:, 24]), c=[\"#\"+''.join([random.choice('0123456789ABCDEF') for j in range(6)])])\n",
    "plt.scatter(train_data[train_label == 1][:, 5], [26] * len(train_data[train_label == 1][:, 25]), c=[\"#\"+''.join([random.choice('0123456789ABCDEF') for j in range(6)])])\n",
    "plt.scatter(train_data[train_label == 1][:, 6], [27] * len(train_data[train_label == 1][:, 26]), c=[\"#\"+''.join([random.choice('0123456789ABCDEF') for j in range(6)])])\n",
    "plt.scatter(train_data[train_label == 1][:, 7], [28] * len(train_data[train_label == 1][:, 27]), c=[\"#\"+''.join([random.choice('0123456789ABCDEF') for j in range(6)])])\n",
    "plt.scatter(train_data[train_label == 1][:, 8], [29] * len(train_data[train_label == 1][:, 28]), c=[\"#\"+''.join([random.choice('0123456789ABCDEF') for j in range(6)])])\n",
    "plt.scatter(train_data[train_label == 1][:, 9], [30] * len(train_data[train_label == 1][:, 29]), c=[\"#\"+''.join([random.choice('0123456789ABCDEF') for j in range(6)])])\n",
    "plt.scatter(train_data[train_label == 1][:, 0], [31] * len(train_data[train_label == 1][:, 30]), c=[\"#\"+''.join([random.choice('0123456789ABCDEF') for j in range(6)])])\n",
    "plt.scatter(train_data[train_label == 1][:, 1], [32] * len(train_data[train_label == 1][:, 31]), c=[\"#\"+''.join([random.choice('0123456789ABCDEF') for j in range(6)])])\n",
    "plt.scatter(train_data[train_label == 1][:, 2], [33] * len(train_data[train_label == 1][:, 32]), c=[\"#\"+''.join([random.choice('0123456789ABCDEF') for j in range(6)])])\n",
    "plt.scatter(train_data[train_label == 1][:, 3], [34] * len(train_data[train_label == 1][:, 33]), c=[\"#\"+''.join([random.choice('0123456789ABCDEF') for j in range(6)])])\n",
    "plt.scatter(train_data[train_label == 1][:, 4], [35] * len(train_data[train_label == 1][:, 34]), c=[\"#\"+''.join([random.choice('0123456789ABCDEF') for j in range(6)])])\n",
    "plt.scatter(train_data[train_label == 1][:, 5], [36] * len(train_data[train_label == 1][:, 35]), c=[\"#\"+''.join([random.choice('0123456789ABCDEF') for j in range(6)])])\n",
    "plt.scatter(train_data[train_label == 1][:, 6], [37] * len(train_data[train_label == 1][:, 36]), c=[\"#\"+''.join([random.choice('0123456789ABCDEF') for j in range(6)])])\n",
    "plt.scatter(train_data[train_label == 1][:, 7], [38] * len(train_data[train_label == 1][:, 37]), c=[\"#\"+''.join([random.choice('0123456789ABCDEF') for j in range(6)])])\n",
    "plt.scatter(train_data[train_label == 1][:, 8], [39] * len(train_data[train_label == 1][:, 38]), c=[\"#\"+''.join([random.choice('0123456789ABCDEF') for j in range(6)])])\n",
    "plt.scatter(train_data[train_label == 1][:, 9], [40] * len(train_data[train_label == 1][:, 39]), c=[\"#\"+''.join([random.choice('0123456789ABCDEF') for j in range(6)])])\n",
    "plt.scatter(train_data[train_label == 1][:, 0], [41] * len(train_data[train_label == 1][:, 40]), c=[\"#\"+''.join([random.choice('0123456789ABCDEF') for j in range(6)])])\n",
    "plt.scatter(train_data[train_label == 1][:, 1], [42] * len(train_data[train_label == 1][:, 41]), c=[\"#\"+''.join([random.choice('0123456789ABCDEF') for j in range(6)])])\n",
    "plt.scatter(train_data[train_label == 1][:, 2], [43] * len(train_data[train_label == 1][:, 42]), c=[\"#\"+''.join([random.choice('0123456789ABCDEF') for j in range(6)])])\n",
    "plt.scatter(train_data[train_label == 1][:, 3], [44] * len(train_data[train_label == 1][:, 43]), c=[\"#\"+''.join([random.choice('0123456789ABCDEF') for j in range(6)])])\n",
    "plt.scatter(train_data[train_label == 1][:, 4], [45] * len(train_data[train_label == 1][:, 44]), c=[\"#\"+''.join([random.choice('0123456789ABCDEF') for j in range(6)])])\n",
    "plt.scatter(train_data[train_label == 1][:, 5], [46] * len(train_data[train_label == 1][:, 45]), c=[\"#\"+''.join([random.choice('0123456789ABCDEF') for j in range(6)])])\n",
    "plt.scatter(train_data[train_label == 1][:, 6], [47] * len(train_data[train_label == 1][:, 46]), c=[\"#\"+''.join([random.choice('0123456789ABCDEF') for j in range(6)])])\n",
    "plt.scatter(train_data[train_label == 1][:, 7], [48] * len(train_data[train_label == 1][:, 47]), c=[\"#\"+''.join([random.choice('0123456789ABCDEF') for j in range(6)])])\n",
    "plt.scatter(train_data[train_label == 1][:, 8], [49] * len(train_data[train_label == 1][:, 48]), c=[\"#\"+''.join([random.choice('0123456789ABCDEF') for j in range(6)])])\n",
    "plt.scatter(train_data[train_label == 1][:, 9], [50] * len(train_data[train_label == 1][:, 49]), c=[\"#\"+''.join([random.choice('0123456789ABCDEF') for j in range(6)])])\n",
    "\n",
    "plt.show()"
   ]
  }
 ],
 "metadata": {
  "language_info": {
   "codemirror_mode": {
    "name": "ipython",
    "version": 3
   },
   "file_extension": ".py",
   "mimetype": "text/x-python",
   "name": "python",
   "nbconvert_exporter": "python",
   "pygments_lexer": "ipython3",
   "version": "3.7.7-final"
  },
  "orig_nbformat": 2,
  "kernelspec": {
   "name": "python37764bite3a9565c9a0b40a7849431fefad9a648",
   "display_name": "Python 3.7.7 64-bit"
  }
 },
 "nbformat": 4,
 "nbformat_minor": 2
}