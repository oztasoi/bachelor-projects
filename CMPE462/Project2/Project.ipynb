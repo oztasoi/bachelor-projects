{
 "cells": [
  {
   "cell_type": "markdown",
   "metadata": {},
   "source": [
    "<h1><center>CMPE 462 - Project 2<br>Implementing an SVM Classifier<br>Due: May 18, 2020, 23:59</center></h1>"
   ]
  },
  {
   "cell_type": "markdown",
   "metadata": {},
   "source": [
    "* **Student ID1:2016400198**\n",
    "* **Student ID2:2016400126**\n",
    "* **Student ID3:2018400279**"
   ]
  },
  {
   "cell_type": "markdown",
   "metadata": {},
   "source": [
    "## Overview\n",
    "\n",
    "In this project, you are going to implement SVM. For this purpose, a data set (data.mat) is given to you. You can load the mat dataset into Python using the function `loadmat` in `Scipy.io`. When you load the data, you will obtain a dictionary object, where `X` stores the data matrix and `Y` stores the labels. You can use the first 150 samples for training and the rest for testing. In this project, you will use the software package [`LIBSVM`](http://www.csie.ntu.edu.tw/~cjlin/libsvm/) to implement SVM. Note that `LIBSVM` has a [`Python interface`](https://github.com/cjlin1/libsvm/tree/master/python), so you can call the SVM functions in Python. "
   ]
  },
  {
   "cell_type": "markdown",
   "metadata": {},
   "source": [
    "## Task 1 - 30 pts\n",
    "\n",
    "Train a hard margin linear SVM and report both train and test classification accuracy."
   ]
  },
  {
   "cell_type": "code",
   "execution_count": 1,
   "metadata": {},
   "outputs": [],
   "source": [
    "import numpy as np\n",
    "import scipy.io\n",
    "import matplotlib.pyplot as plt\n",
    "\n",
    "from libsvm import svmutil as svm"
   ]
  },
  {
   "cell_type": "code",
   "execution_count": 2,
   "metadata": {},
   "outputs": [],
   "source": [
    "mat = scipy.io.loadmat('data.mat')\n",
    "\n",
    "y_train = mat['Y'][:150,:].squeeze()\n",
    "X_train = mat['X'][:150,:]\n",
    "\n",
    "print(X_train.shape)\n",
    "\n",
    "y_test = mat['Y'][150:,:].squeeze()\n",
    "X_test = mat['X'][150:,:]\n",
    "options = '-c 1e10'  # Very high C value imitates hard margin SVM\n",
    "# Training Model\n",
    "model = svm.svm_train(y_train, X_train, options)\n"
   ]
  },
  {
   "cell_type": "code",
   "execution_count": 3,
   "metadata": {},
   "outputs": [
    {
     "output_type": "stream",
     "name": "stdout",
     "text": "Accuracy = 76.6667% (92/120) (classification)\nAccuracy = 100% (150/150) (classification)\n"
    },
    {
     "output_type": "execute_result",
     "data": {
      "text/plain": "([1.0,\n  -1.0,\n  1.0,\n  -1.0,\n  -1.0,\n  -1.0,\n  1.0,\n  1.0,\n  1.0,\n  1.0,\n  -1.0,\n  -1.0,\n  -1.0,\n  1.0,\n  -1.0,\n  -1.0,\n  1.0,\n  1.0,\n  -1.0,\n  -1.0,\n  1.0,\n  -1.0,\n  -1.0,\n  -1.0,\n  -1.0,\n  -1.0,\n  -1.0,\n  -1.0,\n  1.0,\n  -1.0,\n  1.0,\n  -1.0,\n  -1.0,\n  1.0,\n  1.0,\n  1.0,\n  1.0,\n  1.0,\n  -1.0,\n  -1.0,\n  1.0,\n  -1.0,\n  -1.0,\n  -1.0,\n  1.0,\n  -1.0,\n  1.0,\n  1.0,\n  1.0,\n  1.0,\n  1.0,\n  -1.0,\n  -1.0,\n  -1.0,\n  -1.0,\n  -1.0,\n  1.0,\n  -1.0,\n  1.0,\n  1.0,\n  -1.0,\n  1.0,\n  -1.0,\n  -1.0,\n  -1.0,\n  1.0,\n  -1.0,\n  1.0,\n  -1.0,\n  1.0,\n  1.0,\n  -1.0,\n  -1.0,\n  -1.0,\n  -1.0,\n  1.0,\n  -1.0,\n  -1.0,\n  -1.0,\n  -1.0,\n  1.0,\n  1.0,\n  1.0,\n  -1.0,\n  -1.0,\n  -1.0,\n  -1.0,\n  -1.0,\n  -1.0,\n  1.0,\n  -1.0,\n  1.0,\n  1.0,\n  1.0,\n  1.0,\n  1.0,\n  -1.0,\n  1.0,\n  -1.0,\n  -1.0,\n  -1.0,\n  1.0,\n  -1.0,\n  1.0,\n  1.0,\n  1.0,\n  -1.0,\n  1.0,\n  1.0,\n  -1.0,\n  1.0,\n  -1.0,\n  1.0,\n  -1.0,\n  -1.0,\n  -1.0,\n  1.0,\n  1.0,\n  -1.0,\n  1.0,\n  1.0,\n  1.0,\n  1.0,\n  -1.0,\n  -1.0,\n  -1.0,\n  1.0,\n  -1.0,\n  -1.0,\n  1.0,\n  1.0,\n  1.0,\n  -1.0,\n  1.0,\n  -1.0,\n  -1.0,\n  -1.0,\n  1.0,\n  -1.0,\n  -1.0,\n  1.0,\n  -1.0,\n  1.0,\n  -1.0,\n  1.0,\n  1.0,\n  1.0,\n  1.0,\n  1.0,\n  -1.0],\n (100.0, 0.0, 1.0),\n [[2.1625575655560265],\n  [-0.999897429507056],\n  [0.9999895991301144],\n  [-1.0002670764560568],\n  [-3.1424377771288547],\n  [-1.00006545040753],\n  [1.3699843572754233],\n  [2.4084922146681396],\n  [3.6487298813545954],\n  [1.0913183975984113],\n  [-0.99994984823671],\n  [-1.0003075621187125],\n  [-1.8265500798413237],\n  [1.0000832090846796],\n  [-0.9999074019134662],\n  [-1.411105982914092],\n  [4.818297575733646],\n  [2.0663189864938065],\n  [-2.4002252698460493],\n  [-2.6458879753341225],\n  [5.122118919794892],\n  [-2.7908822837132057],\n  [-1.000165518055159],\n  [-0.999986288183411],\n  [-1.0002418061192901],\n  [-2.0626283494605904],\n  [-0.9999959661848894],\n  [-1.2811100382219929],\n  [1.000178159340537],\n  [-0.9997153010335997],\n  [1.1284390520435637],\n  [-1.7377004303026233],\n  [-3.1217204662146667],\n  [5.087718611869677],\n  [1.0002144315933161],\n  [2.9467168610297936],\n  [3.0472349344351315],\n  [1.0003309730995105],\n  [-2.722008920639222],\n  [-0.9997963349643799],\n  [1.0002076624101648],\n  [-0.999833237533206],\n  [-3.0204938012609315],\n  [-0.9997874347198719],\n  [0.9998073248924146],\n  [-2.628461159423031],\n  [3.3239928213876997],\n  [0.9998147365928116],\n  [3.231243863637464],\n  [1.000329043324686],\n  [1.3170404223056973],\n  [-2.646746968457577],\n  [-0.9997825462925543],\n  [-2.677184458775235],\n  [-3.3936242332217725],\n  [-3.734002925751103],\n  [1.2966140476234547],\n  [-1.3902489934683309],\n  [0.9998357467562193],\n  [2.1597017283925757],\n  [-0.9999864831886884],\n  [0.999876299659588],\n  [-1.0561424659471885],\n  [-5.182156634841204],\n  [-1.6645214778687245],\n  [3.2765751056879733],\n  [-1.1891368328309475],\n  [1.0001222234234677],\n  [-1.8935789338609907],\n  [0.9997089270995947],\n  [3.374225631938906],\n  [-1.000195518159005],\n  [-0.9999630928965455],\n  [-1.6713585939058506],\n  [-1.4240656362793598],\n  [6.588445157497543],\n  [-1.0006207284481838],\n  [-1.9939119172518687],\n  [-2.147829107826438],\n  [-1.000014865814378],\n  [0.9999817932002852],\n  [0.9997033057466009],\n  [0.9997871745646274],\n  [-3.5175333278535446],\n  [-1.1742082867646084],\n  [-0.999885100952502],\n  [-0.9999008477255515],\n  [-1.0000662458017981],\n  [-3.6271850312215883],\n  [1.0003019106609712],\n  [-2.887035977545188],\n  [0.9998727883197274],\n  [4.22767499297644],\n  [0.9997301070577234],\n  [4.846438104286581],\n  [1.7314537868420683],\n  [-0.9999974875015096],\n  [3.313969022325414],\n  [-0.9999862152764003],\n  [-3.8079746789305804],\n  [-2.5531239953290163],\n  [1.0002751923230215],\n  [-1.2041072598202296],\n  [4.595598948642662],\n  [1.255299105986652],\n  [0.9997645008566034],\n  [-0.9999565441386558],\n  [0.999934364509864],\n  [0.9999424931708718],\n  [-2.8163726147753643],\n  [1.4187298250219695],\n  [-1.000017134437533],\n  [1.0000266361440142],\n  [-1.1380382623986751],\n  [-1.0000488816944697],\n  [-2.6509112441247145],\n  [1.0003027085776688],\n  [5.093157325528532],\n  [-1.6021810671929135],\n  [1.4244661388166164],\n  [5.680851363342872],\n  [3.9202687115716808],\n  [1.0591216837258346],\n  [-0.9999143936688257],\n  [-0.9996347509648629],\n  [-3.0437051006724634],\n  [2.3550496889496233],\n  [-1.75084342487629],\n  [-0.9996271385449356],\n  [2.7355639135374257],\n  [0.999607694712463],\n  [0.9998907488721722],\n  [-3.1103185780138167],\n  [1.8451370989531235],\n  [-1.0002222126999503],\n  [-1.9468504023808],\n  [-1.5506998970193953],\n  [1.000161658657279],\n  [-5.428577636870127],\n  [-1.0003421338668261],\n  [2.1454499023941835],\n  [-1.211685606391528],\n  [1.8441368759677161],\n  [-1.0002818857548916],\n  [1.0002965265843156],\n  [3.3148482279836466],\n  [1.5100867842289476],\n  [1.000221255972426],\n  [2.58765988596662],\n  [-3.656792307233574]])"
     },
     "metadata": {},
     "execution_count": 3
    }
   ],
   "source": [
    "svm.svm_predict(y_test, X_test, model)\n",
    "svm.svm_predict(y_train, X_train, model)"
   ]
  },
  {
   "cell_type": "markdown",
   "metadata": {},
   "source": [
    "## Task 2 - 40 pts\n",
    "\n",
    "Train soft margin SVM for different values of the parameter $C$, and with different kernel functions. Systematically report your results. For instance, report the performances of different kernels for a fixed $C$, then report the performance for different $C$ values for a fixed kernel, and so on."
   ]
  },
  {
   "cell_type": "code",
   "execution_count": 4,
   "metadata": {
    "scrolled": true
   },
   "outputs": [
    {
     "output_type": "stream",
     "name": "stdout",
     "text": "Kernel: Linear -- C = 0.1\nAccuracy = 83.3333% (100/120) (classification)\n\n\nKernel: Polynomial -- C = 0.1\nAccuracy = 58.3333% (70/120) (classification)\n\n\nKernel: RBS -- C = 0.1\nAccuracy = 84.1667% (101/120) (classification)\n\n\nKernel: Sigmoid -- C = 0.1\nAccuracy = 84.1667% (101/120) (classification)\n\n\nKernel: Linear -- C = 1\nAccuracy = 85% (102/120) (classification)\n\n\nKernel: Polynomial -- C = 1\nAccuracy = 82.5% (99/120) (classification)\n\n\nKernel: RBS -- C = 1\nAccuracy = 84.1667% (101/120) (classification)\n\n\nKernel: Sigmoid -- C = 1\nAccuracy = 84.1667% (101/120) (classification)\n\n\nKernel: Linear -- C = 2\nAccuracy = 83.3333% (100/120) (classification)\n\n\nKernel: Polynomial -- C = 2\nAccuracy = 83.3333% (100/120) (classification)\n\n\nKernel: RBS -- C = 2\nAccuracy = 82.5% (99/120) (classification)\n\n\nKernel: Sigmoid -- C = 2\nAccuracy = 85% (102/120) (classification)\n\n\nKernel: Linear -- C = 5\nAccuracy = 81.6667% (98/120) (classification)\n\n\nKernel: Polynomial -- C = 5\nAccuracy = 80.8333% (97/120) (classification)\n\n\nKernel: RBS -- C = 5\nAccuracy = 80% (96/120) (classification)\n\n\nKernel: Sigmoid -- C = 5\nAccuracy = 82.5% (99/120) (classification)\n\n\nKernel: Linear -- C = 10\nAccuracy = 81.6667% (98/120) (classification)\n\n\nKernel: Polynomial -- C = 10\nAccuracy = 80.8333% (97/120) (classification)\n\n\nKernel: RBS -- C = 10\nAccuracy = 77.5% (93/120) (classification)\n\n\nKernel: Sigmoid -- C = 10\nAccuracy = 80% (96/120) (classification)\n\n\n"
    }
   ],
   "source": [
    "c_values = ['0.1','1','2','5','10']\n",
    "t_values = {0:\"Linear\", 1:\"Polynomial\", 2:\"RBS\", 3:\"Sigmoid\"}\n",
    "\n",
    "for c in c_values:\n",
    "    for t in t_values.keys():\n",
    "        options = \"-t {} -c {}\".format(t, c)\n",
    "        model = svm.svm_train(y_train, X_train, options)\n",
    "        print(\"Kernel:\",t_values[t], '-- C =', c)\n",
    "        pred_values, (acc,mse,scc), pred_values = svm.svm_predict(y_test, X_test, model)\n",
    "        print('\\n')"
   ]
  },
  {
   "cell_type": "markdown",
   "metadata": {},
   "source": [
    "## Task 3 - 15 pts\n",
    "\n",
    "Please report how the number of support vectors changes as the value of $C$ increases (while all other parameters remain the same). Discuss whether your observations match the theory."
   ]
  },
  {
   "cell_type": "code",
   "execution_count": 5,
   "metadata": {},
   "outputs": [
    {
     "output_type": "display_data",
     "data": {
      "text/plain": "<Figure size 432x288 with 1 Axes>",
      "image/svg+xml": "<?xml version=\"1.0\" encoding=\"utf-8\" standalone=\"no\"?>\n<!DOCTYPE svg PUBLIC \"-//W3C//DTD SVG 1.1//EN\"\n  \"http://www.w3.org/Graphics/SVG/1.1/DTD/svg11.dtd\">\n<!-- Created with matplotlib (https://matplotlib.org/) -->\n<svg height=\"262.19625pt\" version=\"1.1\" viewBox=\"0 0 388.965625 262.19625\" width=\"388.965625pt\" xmlns=\"http://www.w3.org/2000/svg\" xmlns:xlink=\"http://www.w3.org/1999/xlink\">\n <defs>\n  <style type=\"text/css\">\n*{stroke-linecap:butt;stroke-linejoin:round;}\n  </style>\n </defs>\n <g id=\"figure_1\">\n  <g id=\"patch_1\">\n   <path d=\"M 0 262.19625 \nL 388.965625 262.19625 \nL 388.965625 0 \nL 0 0 \nz\n\" style=\"fill:none;\"/>\n  </g>\n  <g id=\"axes_1\">\n   <g id=\"patch_2\">\n    <path d=\"M 46.965625 224.64 \nL 381.765625 224.64 \nL 381.765625 7.2 \nL 46.965625 7.2 \nz\n\" style=\"fill:#ffffff;\"/>\n   </g>\n   <g id=\"matplotlib.axis_1\">\n    <g id=\"xtick_1\">\n     <g id=\"line2d_1\">\n      <defs>\n       <path d=\"M 0 0 \nL 0 3.5 \n\" id=\"md8d2b2c9d6\" style=\"stroke:#000000;stroke-width:0.8;\"/>\n      </defs>\n      <g>\n       <use style=\"stroke:#000000;stroke-width:0.8;\" x=\"62.153367\" xlink:href=\"#md8d2b2c9d6\" y=\"224.64\"/>\n      </g>\n     </g>\n     <g id=\"text_1\">\n      <!-- 0 -->\n      <defs>\n       <path d=\"M 31.78125 66.40625 \nQ 24.171875 66.40625 20.328125 58.90625 \nQ 16.5 51.421875 16.5 36.375 \nQ 16.5 21.390625 20.328125 13.890625 \nQ 24.171875 6.390625 31.78125 6.390625 \nQ 39.453125 6.390625 43.28125 13.890625 \nQ 47.125 21.390625 47.125 36.375 \nQ 47.125 51.421875 43.28125 58.90625 \nQ 39.453125 66.40625 31.78125 66.40625 \nz\nM 31.78125 74.21875 \nQ 44.046875 74.21875 50.515625 64.515625 \nQ 56.984375 54.828125 56.984375 36.375 \nQ 56.984375 17.96875 50.515625 8.265625 \nQ 44.046875 -1.421875 31.78125 -1.421875 \nQ 19.53125 -1.421875 13.0625 8.265625 \nQ 6.59375 17.96875 6.59375 36.375 \nQ 6.59375 54.828125 13.0625 64.515625 \nQ 19.53125 74.21875 31.78125 74.21875 \nz\n\" id=\"DejaVuSans-48\"/>\n      </defs>\n      <g transform=\"translate(58.972117 239.238437)scale(0.1 -0.1)\">\n       <use xlink:href=\"#DejaVuSans-48\"/>\n      </g>\n     </g>\n    </g>\n    <g id=\"xtick_2\">\n     <g id=\"line2d_2\">\n      <g>\n       <use style=\"stroke:#000000;stroke-width:0.8;\" x=\"123.032183\" xlink:href=\"#md8d2b2c9d6\" y=\"224.64\"/>\n      </g>\n     </g>\n     <g id=\"text_2\">\n      <!-- 200 -->\n      <defs>\n       <path d=\"M 19.1875 8.296875 \nL 53.609375 8.296875 \nL 53.609375 0 \nL 7.328125 0 \nL 7.328125 8.296875 \nQ 12.9375 14.109375 22.625 23.890625 \nQ 32.328125 33.6875 34.8125 36.53125 \nQ 39.546875 41.84375 41.421875 45.53125 \nQ 43.3125 49.21875 43.3125 52.78125 \nQ 43.3125 58.59375 39.234375 62.25 \nQ 35.15625 65.921875 28.609375 65.921875 \nQ 23.96875 65.921875 18.8125 64.3125 \nQ 13.671875 62.703125 7.8125 59.421875 \nL 7.8125 69.390625 \nQ 13.765625 71.78125 18.9375 73 \nQ 24.125 74.21875 28.421875 74.21875 \nQ 39.75 74.21875 46.484375 68.546875 \nQ 53.21875 62.890625 53.21875 53.421875 \nQ 53.21875 48.921875 51.53125 44.890625 \nQ 49.859375 40.875 45.40625 35.40625 \nQ 44.1875 33.984375 37.640625 27.21875 \nQ 31.109375 20.453125 19.1875 8.296875 \nz\n\" id=\"DejaVuSans-50\"/>\n      </defs>\n      <g transform=\"translate(113.488433 239.238437)scale(0.1 -0.1)\">\n       <use xlink:href=\"#DejaVuSans-50\"/>\n       <use x=\"63.623047\" xlink:href=\"#DejaVuSans-48\"/>\n       <use x=\"127.246094\" xlink:href=\"#DejaVuSans-48\"/>\n      </g>\n     </g>\n    </g>\n    <g id=\"xtick_3\">\n     <g id=\"line2d_3\">\n      <g>\n       <use style=\"stroke:#000000;stroke-width:0.8;\" x=\"183.910998\" xlink:href=\"#md8d2b2c9d6\" y=\"224.64\"/>\n      </g>\n     </g>\n     <g id=\"text_3\">\n      <!-- 400 -->\n      <defs>\n       <path d=\"M 37.796875 64.3125 \nL 12.890625 25.390625 \nL 37.796875 25.390625 \nz\nM 35.203125 72.90625 \nL 47.609375 72.90625 \nL 47.609375 25.390625 \nL 58.015625 25.390625 \nL 58.015625 17.1875 \nL 47.609375 17.1875 \nL 47.609375 0 \nL 37.796875 0 \nL 37.796875 17.1875 \nL 4.890625 17.1875 \nL 4.890625 26.703125 \nz\n\" id=\"DejaVuSans-52\"/>\n      </defs>\n      <g transform=\"translate(174.367248 239.238437)scale(0.1 -0.1)\">\n       <use xlink:href=\"#DejaVuSans-52\"/>\n       <use x=\"63.623047\" xlink:href=\"#DejaVuSans-48\"/>\n       <use x=\"127.246094\" xlink:href=\"#DejaVuSans-48\"/>\n      </g>\n     </g>\n    </g>\n    <g id=\"xtick_4\">\n     <g id=\"line2d_4\">\n      <g>\n       <use style=\"stroke:#000000;stroke-width:0.8;\" x=\"244.789813\" xlink:href=\"#md8d2b2c9d6\" y=\"224.64\"/>\n      </g>\n     </g>\n     <g id=\"text_4\">\n      <!-- 600 -->\n      <defs>\n       <path d=\"M 33.015625 40.375 \nQ 26.375 40.375 22.484375 35.828125 \nQ 18.609375 31.296875 18.609375 23.390625 \nQ 18.609375 15.53125 22.484375 10.953125 \nQ 26.375 6.390625 33.015625 6.390625 \nQ 39.65625 6.390625 43.53125 10.953125 \nQ 47.40625 15.53125 47.40625 23.390625 \nQ 47.40625 31.296875 43.53125 35.828125 \nQ 39.65625 40.375 33.015625 40.375 \nz\nM 52.59375 71.296875 \nL 52.59375 62.3125 \nQ 48.875 64.0625 45.09375 64.984375 \nQ 41.3125 65.921875 37.59375 65.921875 \nQ 27.828125 65.921875 22.671875 59.328125 \nQ 17.53125 52.734375 16.796875 39.40625 \nQ 19.671875 43.65625 24.015625 45.921875 \nQ 28.375 48.1875 33.59375 48.1875 \nQ 44.578125 48.1875 50.953125 41.515625 \nQ 57.328125 34.859375 57.328125 23.390625 \nQ 57.328125 12.15625 50.6875 5.359375 \nQ 44.046875 -1.421875 33.015625 -1.421875 \nQ 20.359375 -1.421875 13.671875 8.265625 \nQ 6.984375 17.96875 6.984375 36.375 \nQ 6.984375 53.65625 15.1875 63.9375 \nQ 23.390625 74.21875 37.203125 74.21875 \nQ 40.921875 74.21875 44.703125 73.484375 \nQ 48.484375 72.75 52.59375 71.296875 \nz\n\" id=\"DejaVuSans-54\"/>\n      </defs>\n      <g transform=\"translate(235.246063 239.238437)scale(0.1 -0.1)\">\n       <use xlink:href=\"#DejaVuSans-54\"/>\n       <use x=\"63.623047\" xlink:href=\"#DejaVuSans-48\"/>\n       <use x=\"127.246094\" xlink:href=\"#DejaVuSans-48\"/>\n      </g>\n     </g>\n    </g>\n    <g id=\"xtick_5\">\n     <g id=\"line2d_5\">\n      <g>\n       <use style=\"stroke:#000000;stroke-width:0.8;\" x=\"305.668628\" xlink:href=\"#md8d2b2c9d6\" y=\"224.64\"/>\n      </g>\n     </g>\n     <g id=\"text_5\">\n      <!-- 800 -->\n      <defs>\n       <path d=\"M 31.78125 34.625 \nQ 24.75 34.625 20.71875 30.859375 \nQ 16.703125 27.09375 16.703125 20.515625 \nQ 16.703125 13.921875 20.71875 10.15625 \nQ 24.75 6.390625 31.78125 6.390625 \nQ 38.8125 6.390625 42.859375 10.171875 \nQ 46.921875 13.96875 46.921875 20.515625 \nQ 46.921875 27.09375 42.890625 30.859375 \nQ 38.875 34.625 31.78125 34.625 \nz\nM 21.921875 38.8125 \nQ 15.578125 40.375 12.03125 44.71875 \nQ 8.5 49.078125 8.5 55.328125 \nQ 8.5 64.0625 14.71875 69.140625 \nQ 20.953125 74.21875 31.78125 74.21875 \nQ 42.671875 74.21875 48.875 69.140625 \nQ 55.078125 64.0625 55.078125 55.328125 \nQ 55.078125 49.078125 51.53125 44.71875 \nQ 48 40.375 41.703125 38.8125 \nQ 48.828125 37.15625 52.796875 32.3125 \nQ 56.78125 27.484375 56.78125 20.515625 \nQ 56.78125 9.90625 50.3125 4.234375 \nQ 43.84375 -1.421875 31.78125 -1.421875 \nQ 19.734375 -1.421875 13.25 4.234375 \nQ 6.78125 9.90625 6.78125 20.515625 \nQ 6.78125 27.484375 10.78125 32.3125 \nQ 14.796875 37.15625 21.921875 38.8125 \nz\nM 18.3125 54.390625 \nQ 18.3125 48.734375 21.84375 45.5625 \nQ 25.390625 42.390625 31.78125 42.390625 \nQ 38.140625 42.390625 41.71875 45.5625 \nQ 45.3125 48.734375 45.3125 54.390625 \nQ 45.3125 60.0625 41.71875 63.234375 \nQ 38.140625 66.40625 31.78125 66.40625 \nQ 25.390625 66.40625 21.84375 63.234375 \nQ 18.3125 60.0625 18.3125 54.390625 \nz\n\" id=\"DejaVuSans-56\"/>\n      </defs>\n      <g transform=\"translate(296.124878 239.238437)scale(0.1 -0.1)\">\n       <use xlink:href=\"#DejaVuSans-56\"/>\n       <use x=\"63.623047\" xlink:href=\"#DejaVuSans-48\"/>\n       <use x=\"127.246094\" xlink:href=\"#DejaVuSans-48\"/>\n      </g>\n     </g>\n    </g>\n    <g id=\"xtick_6\">\n     <g id=\"line2d_6\">\n      <g>\n       <use style=\"stroke:#000000;stroke-width:0.8;\" x=\"366.547443\" xlink:href=\"#md8d2b2c9d6\" y=\"224.64\"/>\n      </g>\n     </g>\n     <g id=\"text_6\">\n      <!-- 1000 -->\n      <defs>\n       <path d=\"M 12.40625 8.296875 \nL 28.515625 8.296875 \nL 28.515625 63.921875 \nL 10.984375 60.40625 \nL 10.984375 69.390625 \nL 28.421875 72.90625 \nL 38.28125 72.90625 \nL 38.28125 8.296875 \nL 54.390625 8.296875 \nL 54.390625 0 \nL 12.40625 0 \nz\n\" id=\"DejaVuSans-49\"/>\n      </defs>\n      <g transform=\"translate(353.822443 239.238437)scale(0.1 -0.1)\">\n       <use xlink:href=\"#DejaVuSans-49\"/>\n       <use x=\"63.623047\" xlink:href=\"#DejaVuSans-48\"/>\n       <use x=\"127.246094\" xlink:href=\"#DejaVuSans-48\"/>\n       <use x=\"190.869141\" xlink:href=\"#DejaVuSans-48\"/>\n      </g>\n     </g>\n    </g>\n    <g id=\"text_7\">\n     <!-- penalty constant -->\n     <defs>\n      <path d=\"M 18.109375 8.203125 \nL 18.109375 -20.796875 \nL 9.078125 -20.796875 \nL 9.078125 54.6875 \nL 18.109375 54.6875 \nL 18.109375 46.390625 \nQ 20.953125 51.265625 25.265625 53.625 \nQ 29.59375 56 35.59375 56 \nQ 45.5625 56 51.78125 48.09375 \nQ 58.015625 40.1875 58.015625 27.296875 \nQ 58.015625 14.40625 51.78125 6.484375 \nQ 45.5625 -1.421875 35.59375 -1.421875 \nQ 29.59375 -1.421875 25.265625 0.953125 \nQ 20.953125 3.328125 18.109375 8.203125 \nz\nM 48.6875 27.296875 \nQ 48.6875 37.203125 44.609375 42.84375 \nQ 40.53125 48.484375 33.40625 48.484375 \nQ 26.265625 48.484375 22.1875 42.84375 \nQ 18.109375 37.203125 18.109375 27.296875 \nQ 18.109375 17.390625 22.1875 11.75 \nQ 26.265625 6.109375 33.40625 6.109375 \nQ 40.53125 6.109375 44.609375 11.75 \nQ 48.6875 17.390625 48.6875 27.296875 \nz\n\" id=\"DejaVuSans-112\"/>\n      <path d=\"M 56.203125 29.59375 \nL 56.203125 25.203125 \nL 14.890625 25.203125 \nQ 15.484375 15.921875 20.484375 11.0625 \nQ 25.484375 6.203125 34.421875 6.203125 \nQ 39.59375 6.203125 44.453125 7.46875 \nQ 49.3125 8.734375 54.109375 11.28125 \nL 54.109375 2.78125 \nQ 49.265625 0.734375 44.1875 -0.34375 \nQ 39.109375 -1.421875 33.890625 -1.421875 \nQ 20.796875 -1.421875 13.15625 6.1875 \nQ 5.515625 13.8125 5.515625 26.8125 \nQ 5.515625 40.234375 12.765625 48.109375 \nQ 20.015625 56 32.328125 56 \nQ 43.359375 56 49.78125 48.890625 \nQ 56.203125 41.796875 56.203125 29.59375 \nz\nM 47.21875 32.234375 \nQ 47.125 39.59375 43.09375 43.984375 \nQ 39.0625 48.390625 32.421875 48.390625 \nQ 24.90625 48.390625 20.390625 44.140625 \nQ 15.875 39.890625 15.1875 32.171875 \nz\n\" id=\"DejaVuSans-101\"/>\n      <path d=\"M 54.890625 33.015625 \nL 54.890625 0 \nL 45.90625 0 \nL 45.90625 32.71875 \nQ 45.90625 40.484375 42.875 44.328125 \nQ 39.84375 48.1875 33.796875 48.1875 \nQ 26.515625 48.1875 22.3125 43.546875 \nQ 18.109375 38.921875 18.109375 30.90625 \nL 18.109375 0 \nL 9.078125 0 \nL 9.078125 54.6875 \nL 18.109375 54.6875 \nL 18.109375 46.1875 \nQ 21.34375 51.125 25.703125 53.5625 \nQ 30.078125 56 35.796875 56 \nQ 45.21875 56 50.046875 50.171875 \nQ 54.890625 44.34375 54.890625 33.015625 \nz\n\" id=\"DejaVuSans-110\"/>\n      <path d=\"M 34.28125 27.484375 \nQ 23.390625 27.484375 19.1875 25 \nQ 14.984375 22.515625 14.984375 16.5 \nQ 14.984375 11.71875 18.140625 8.90625 \nQ 21.296875 6.109375 26.703125 6.109375 \nQ 34.1875 6.109375 38.703125 11.40625 \nQ 43.21875 16.703125 43.21875 25.484375 \nL 43.21875 27.484375 \nz\nM 52.203125 31.203125 \nL 52.203125 0 \nL 43.21875 0 \nL 43.21875 8.296875 \nQ 40.140625 3.328125 35.546875 0.953125 \nQ 30.953125 -1.421875 24.3125 -1.421875 \nQ 15.921875 -1.421875 10.953125 3.296875 \nQ 6 8.015625 6 15.921875 \nQ 6 25.140625 12.171875 29.828125 \nQ 18.359375 34.515625 30.609375 34.515625 \nL 43.21875 34.515625 \nL 43.21875 35.40625 \nQ 43.21875 41.609375 39.140625 45 \nQ 35.0625 48.390625 27.6875 48.390625 \nQ 23 48.390625 18.546875 47.265625 \nQ 14.109375 46.140625 10.015625 43.890625 \nL 10.015625 52.203125 \nQ 14.9375 54.109375 19.578125 55.046875 \nQ 24.21875 56 28.609375 56 \nQ 40.484375 56 46.34375 49.84375 \nQ 52.203125 43.703125 52.203125 31.203125 \nz\n\" id=\"DejaVuSans-97\"/>\n      <path d=\"M 9.421875 75.984375 \nL 18.40625 75.984375 \nL 18.40625 0 \nL 9.421875 0 \nz\n\" id=\"DejaVuSans-108\"/>\n      <path d=\"M 18.3125 70.21875 \nL 18.3125 54.6875 \nL 36.8125 54.6875 \nL 36.8125 47.703125 \nL 18.3125 47.703125 \nL 18.3125 18.015625 \nQ 18.3125 11.328125 20.140625 9.421875 \nQ 21.96875 7.515625 27.59375 7.515625 \nL 36.8125 7.515625 \nL 36.8125 0 \nL 27.59375 0 \nQ 17.1875 0 13.234375 3.875 \nQ 9.28125 7.765625 9.28125 18.015625 \nL 9.28125 47.703125 \nL 2.6875 47.703125 \nL 2.6875 54.6875 \nL 9.28125 54.6875 \nL 9.28125 70.21875 \nz\n\" id=\"DejaVuSans-116\"/>\n      <path d=\"M 32.171875 -5.078125 \nQ 28.375 -14.84375 24.75 -17.8125 \nQ 21.140625 -20.796875 15.09375 -20.796875 \nL 7.90625 -20.796875 \nL 7.90625 -13.28125 \nL 13.1875 -13.28125 \nQ 16.890625 -13.28125 18.9375 -11.515625 \nQ 21 -9.765625 23.484375 -3.21875 \nL 25.09375 0.875 \nL 2.984375 54.6875 \nL 12.5 54.6875 \nL 29.59375 11.921875 \nL 46.6875 54.6875 \nL 56.203125 54.6875 \nz\n\" id=\"DejaVuSans-121\"/>\n      <path id=\"DejaVuSans-32\"/>\n      <path d=\"M 48.78125 52.59375 \nL 48.78125 44.1875 \nQ 44.96875 46.296875 41.140625 47.34375 \nQ 37.3125 48.390625 33.40625 48.390625 \nQ 24.65625 48.390625 19.8125 42.84375 \nQ 14.984375 37.3125 14.984375 27.296875 \nQ 14.984375 17.28125 19.8125 11.734375 \nQ 24.65625 6.203125 33.40625 6.203125 \nQ 37.3125 6.203125 41.140625 7.25 \nQ 44.96875 8.296875 48.78125 10.40625 \nL 48.78125 2.09375 \nQ 45.015625 0.34375 40.984375 -0.53125 \nQ 36.96875 -1.421875 32.421875 -1.421875 \nQ 20.0625 -1.421875 12.78125 6.34375 \nQ 5.515625 14.109375 5.515625 27.296875 \nQ 5.515625 40.671875 12.859375 48.328125 \nQ 20.21875 56 33.015625 56 \nQ 37.15625 56 41.109375 55.140625 \nQ 45.0625 54.296875 48.78125 52.59375 \nz\n\" id=\"DejaVuSans-99\"/>\n      <path d=\"M 30.609375 48.390625 \nQ 23.390625 48.390625 19.1875 42.75 \nQ 14.984375 37.109375 14.984375 27.296875 \nQ 14.984375 17.484375 19.15625 11.84375 \nQ 23.34375 6.203125 30.609375 6.203125 \nQ 37.796875 6.203125 41.984375 11.859375 \nQ 46.1875 17.53125 46.1875 27.296875 \nQ 46.1875 37.015625 41.984375 42.703125 \nQ 37.796875 48.390625 30.609375 48.390625 \nz\nM 30.609375 56 \nQ 42.328125 56 49.015625 48.375 \nQ 55.71875 40.765625 55.71875 27.296875 \nQ 55.71875 13.875 49.015625 6.21875 \nQ 42.328125 -1.421875 30.609375 -1.421875 \nQ 18.84375 -1.421875 12.171875 6.21875 \nQ 5.515625 13.875 5.515625 27.296875 \nQ 5.515625 40.765625 12.171875 48.375 \nQ 18.84375 56 30.609375 56 \nz\n\" id=\"DejaVuSans-111\"/>\n      <path d=\"M 44.28125 53.078125 \nL 44.28125 44.578125 \nQ 40.484375 46.53125 36.375 47.5 \nQ 32.28125 48.484375 27.875 48.484375 \nQ 21.1875 48.484375 17.84375 46.4375 \nQ 14.5 44.390625 14.5 40.28125 \nQ 14.5 37.15625 16.890625 35.375 \nQ 19.28125 33.59375 26.515625 31.984375 \nL 29.59375 31.296875 \nQ 39.15625 29.25 43.1875 25.515625 \nQ 47.21875 21.78125 47.21875 15.09375 \nQ 47.21875 7.46875 41.1875 3.015625 \nQ 35.15625 -1.421875 24.609375 -1.421875 \nQ 20.21875 -1.421875 15.453125 -0.5625 \nQ 10.6875 0.296875 5.421875 2 \nL 5.421875 11.28125 \nQ 10.40625 8.6875 15.234375 7.390625 \nQ 20.0625 6.109375 24.8125 6.109375 \nQ 31.15625 6.109375 34.5625 8.28125 \nQ 37.984375 10.453125 37.984375 14.40625 \nQ 37.984375 18.0625 35.515625 20.015625 \nQ 33.0625 21.96875 24.703125 23.78125 \nL 21.578125 24.515625 \nQ 13.234375 26.265625 9.515625 29.90625 \nQ 5.8125 33.546875 5.8125 39.890625 \nQ 5.8125 47.609375 11.28125 51.796875 \nQ 16.75 56 26.8125 56 \nQ 31.78125 56 36.171875 55.265625 \nQ 40.578125 54.546875 44.28125 53.078125 \nz\n\" id=\"DejaVuSans-115\"/>\n     </defs>\n     <g transform=\"translate(172.249219 252.916562)scale(0.1 -0.1)\">\n      <use xlink:href=\"#DejaVuSans-112\"/>\n      <use x=\"63.476562\" xlink:href=\"#DejaVuSans-101\"/>\n      <use x=\"125\" xlink:href=\"#DejaVuSans-110\"/>\n      <use x=\"188.378906\" xlink:href=\"#DejaVuSans-97\"/>\n      <use x=\"249.658203\" xlink:href=\"#DejaVuSans-108\"/>\n      <use x=\"277.441406\" xlink:href=\"#DejaVuSans-116\"/>\n      <use x=\"316.650391\" xlink:href=\"#DejaVuSans-121\"/>\n      <use x=\"375.830078\" xlink:href=\"#DejaVuSans-32\"/>\n      <use x=\"407.617188\" xlink:href=\"#DejaVuSans-99\"/>\n      <use x=\"462.597656\" xlink:href=\"#DejaVuSans-111\"/>\n      <use x=\"523.779297\" xlink:href=\"#DejaVuSans-110\"/>\n      <use x=\"587.158203\" xlink:href=\"#DejaVuSans-115\"/>\n      <use x=\"639.257812\" xlink:href=\"#DejaVuSans-116\"/>\n      <use x=\"678.466797\" xlink:href=\"#DejaVuSans-97\"/>\n      <use x=\"739.746094\" xlink:href=\"#DejaVuSans-110\"/>\n      <use x=\"803.125\" xlink:href=\"#DejaVuSans-116\"/>\n     </g>\n    </g>\n   </g>\n   <g id=\"matplotlib.axis_2\">\n    <g id=\"ytick_1\">\n     <g id=\"line2d_7\">\n      <defs>\n       <path d=\"M 0 0 \nL -3.5 0 \n\" id=\"m009783a61a\" style=\"stroke:#000000;stroke-width:0.8;\"/>\n      </defs>\n      <g>\n       <use style=\"stroke:#000000;stroke-width:0.8;\" x=\"46.965625\" xlink:href=\"#m009783a61a\" y=\"217.054884\"/>\n      </g>\n     </g>\n     <g id=\"text_8\">\n      <!-- 40 -->\n      <g transform=\"translate(27.240625 220.854102)scale(0.1 -0.1)\">\n       <use xlink:href=\"#DejaVuSans-52\"/>\n       <use x=\"63.623047\" xlink:href=\"#DejaVuSans-48\"/>\n      </g>\n     </g>\n    </g>\n    <g id=\"ytick_2\">\n     <g id=\"line2d_8\">\n      <g>\n       <use style=\"stroke:#000000;stroke-width:0.8;\" x=\"46.965625\" xlink:href=\"#m009783a61a\" y=\"171.084482\"/>\n      </g>\n     </g>\n     <g id=\"text_9\">\n      <!-- 60 -->\n      <g transform=\"translate(27.240625 174.883701)scale(0.1 -0.1)\">\n       <use xlink:href=\"#DejaVuSans-54\"/>\n       <use x=\"63.623047\" xlink:href=\"#DejaVuSans-48\"/>\n      </g>\n     </g>\n    </g>\n    <g id=\"ytick_3\">\n     <g id=\"line2d_9\">\n      <g>\n       <use style=\"stroke:#000000;stroke-width:0.8;\" x=\"46.965625\" xlink:href=\"#m009783a61a\" y=\"125.11408\"/>\n      </g>\n     </g>\n     <g id=\"text_10\">\n      <!-- 80 -->\n      <g transform=\"translate(27.240625 128.913299)scale(0.1 -0.1)\">\n       <use xlink:href=\"#DejaVuSans-56\"/>\n       <use x=\"63.623047\" xlink:href=\"#DejaVuSans-48\"/>\n      </g>\n     </g>\n    </g>\n    <g id=\"ytick_4\">\n     <g id=\"line2d_10\">\n      <g>\n       <use style=\"stroke:#000000;stroke-width:0.8;\" x=\"46.965625\" xlink:href=\"#m009783a61a\" y=\"79.143679\"/>\n      </g>\n     </g>\n     <g id=\"text_11\">\n      <!-- 100 -->\n      <g transform=\"translate(20.878125 82.942897)scale(0.1 -0.1)\">\n       <use xlink:href=\"#DejaVuSans-49\"/>\n       <use x=\"63.623047\" xlink:href=\"#DejaVuSans-48\"/>\n       <use x=\"127.246094\" xlink:href=\"#DejaVuSans-48\"/>\n      </g>\n     </g>\n    </g>\n    <g id=\"ytick_5\">\n     <g id=\"line2d_11\">\n      <g>\n       <use style=\"stroke:#000000;stroke-width:0.8;\" x=\"46.965625\" xlink:href=\"#m009783a61a\" y=\"33.173277\"/>\n      </g>\n     </g>\n     <g id=\"text_12\">\n      <!-- 120 -->\n      <g transform=\"translate(20.878125 36.972496)scale(0.1 -0.1)\">\n       <use xlink:href=\"#DejaVuSans-49\"/>\n       <use x=\"63.623047\" xlink:href=\"#DejaVuSans-50\"/>\n       <use x=\"127.246094\" xlink:href=\"#DejaVuSans-48\"/>\n      </g>\n     </g>\n    </g>\n    <g id=\"text_13\">\n     <!-- number of support vectors -->\n     <defs>\n      <path d=\"M 8.5 21.578125 \nL 8.5 54.6875 \nL 17.484375 54.6875 \nL 17.484375 21.921875 \nQ 17.484375 14.15625 20.5 10.265625 \nQ 23.53125 6.390625 29.59375 6.390625 \nQ 36.859375 6.390625 41.078125 11.03125 \nQ 45.3125 15.671875 45.3125 23.6875 \nL 45.3125 54.6875 \nL 54.296875 54.6875 \nL 54.296875 0 \nL 45.3125 0 \nL 45.3125 8.40625 \nQ 42.046875 3.421875 37.71875 1 \nQ 33.40625 -1.421875 27.6875 -1.421875 \nQ 18.265625 -1.421875 13.375 4.4375 \nQ 8.5 10.296875 8.5 21.578125 \nz\nM 31.109375 56 \nz\n\" id=\"DejaVuSans-117\"/>\n      <path d=\"M 52 44.1875 \nQ 55.375 50.25 60.0625 53.125 \nQ 64.75 56 71.09375 56 \nQ 79.640625 56 84.28125 50.015625 \nQ 88.921875 44.046875 88.921875 33.015625 \nL 88.921875 0 \nL 79.890625 0 \nL 79.890625 32.71875 \nQ 79.890625 40.578125 77.09375 44.375 \nQ 74.3125 48.1875 68.609375 48.1875 \nQ 61.625 48.1875 57.5625 43.546875 \nQ 53.515625 38.921875 53.515625 30.90625 \nL 53.515625 0 \nL 44.484375 0 \nL 44.484375 32.71875 \nQ 44.484375 40.625 41.703125 44.40625 \nQ 38.921875 48.1875 33.109375 48.1875 \nQ 26.21875 48.1875 22.15625 43.53125 \nQ 18.109375 38.875 18.109375 30.90625 \nL 18.109375 0 \nL 9.078125 0 \nL 9.078125 54.6875 \nL 18.109375 54.6875 \nL 18.109375 46.1875 \nQ 21.1875 51.21875 25.484375 53.609375 \nQ 29.78125 56 35.6875 56 \nQ 41.65625 56 45.828125 52.96875 \nQ 50 49.953125 52 44.1875 \nz\n\" id=\"DejaVuSans-109\"/>\n      <path d=\"M 48.6875 27.296875 \nQ 48.6875 37.203125 44.609375 42.84375 \nQ 40.53125 48.484375 33.40625 48.484375 \nQ 26.265625 48.484375 22.1875 42.84375 \nQ 18.109375 37.203125 18.109375 27.296875 \nQ 18.109375 17.390625 22.1875 11.75 \nQ 26.265625 6.109375 33.40625 6.109375 \nQ 40.53125 6.109375 44.609375 11.75 \nQ 48.6875 17.390625 48.6875 27.296875 \nz\nM 18.109375 46.390625 \nQ 20.953125 51.265625 25.265625 53.625 \nQ 29.59375 56 35.59375 56 \nQ 45.5625 56 51.78125 48.09375 \nQ 58.015625 40.1875 58.015625 27.296875 \nQ 58.015625 14.40625 51.78125 6.484375 \nQ 45.5625 -1.421875 35.59375 -1.421875 \nQ 29.59375 -1.421875 25.265625 0.953125 \nQ 20.953125 3.328125 18.109375 8.203125 \nL 18.109375 0 \nL 9.078125 0 \nL 9.078125 75.984375 \nL 18.109375 75.984375 \nz\n\" id=\"DejaVuSans-98\"/>\n      <path d=\"M 41.109375 46.296875 \nQ 39.59375 47.171875 37.8125 47.578125 \nQ 36.03125 48 33.890625 48 \nQ 26.265625 48 22.1875 43.046875 \nQ 18.109375 38.09375 18.109375 28.8125 \nL 18.109375 0 \nL 9.078125 0 \nL 9.078125 54.6875 \nL 18.109375 54.6875 \nL 18.109375 46.1875 \nQ 20.953125 51.171875 25.484375 53.578125 \nQ 30.03125 56 36.53125 56 \nQ 37.453125 56 38.578125 55.875 \nQ 39.703125 55.765625 41.0625 55.515625 \nz\n\" id=\"DejaVuSans-114\"/>\n      <path d=\"M 37.109375 75.984375 \nL 37.109375 68.5 \nL 28.515625 68.5 \nQ 23.6875 68.5 21.796875 66.546875 \nQ 19.921875 64.59375 19.921875 59.515625 \nL 19.921875 54.6875 \nL 34.71875 54.6875 \nL 34.71875 47.703125 \nL 19.921875 47.703125 \nL 19.921875 0 \nL 10.890625 0 \nL 10.890625 47.703125 \nL 2.296875 47.703125 \nL 2.296875 54.6875 \nL 10.890625 54.6875 \nL 10.890625 58.5 \nQ 10.890625 67.625 15.140625 71.796875 \nQ 19.390625 75.984375 28.609375 75.984375 \nz\n\" id=\"DejaVuSans-102\"/>\n      <path d=\"M 2.984375 54.6875 \nL 12.5 54.6875 \nL 29.59375 8.796875 \nL 46.6875 54.6875 \nL 56.203125 54.6875 \nL 35.6875 0 \nL 23.484375 0 \nz\n\" id=\"DejaVuSans-118\"/>\n     </defs>\n     <g transform=\"translate(14.798438 182.6825)rotate(-90)scale(0.1 -0.1)\">\n      <use xlink:href=\"#DejaVuSans-110\"/>\n      <use x=\"63.378906\" xlink:href=\"#DejaVuSans-117\"/>\n      <use x=\"126.757812\" xlink:href=\"#DejaVuSans-109\"/>\n      <use x=\"224.169922\" xlink:href=\"#DejaVuSans-98\"/>\n      <use x=\"287.646484\" xlink:href=\"#DejaVuSans-101\"/>\n      <use x=\"349.169922\" xlink:href=\"#DejaVuSans-114\"/>\n      <use x=\"390.283203\" xlink:href=\"#DejaVuSans-32\"/>\n      <use x=\"422.070312\" xlink:href=\"#DejaVuSans-111\"/>\n      <use x=\"483.251953\" xlink:href=\"#DejaVuSans-102\"/>\n      <use x=\"518.457031\" xlink:href=\"#DejaVuSans-32\"/>\n      <use x=\"550.244141\" xlink:href=\"#DejaVuSans-115\"/>\n      <use x=\"602.34375\" xlink:href=\"#DejaVuSans-117\"/>\n      <use x=\"665.722656\" xlink:href=\"#DejaVuSans-112\"/>\n      <use x=\"729.199219\" xlink:href=\"#DejaVuSans-112\"/>\n      <use x=\"792.675781\" xlink:href=\"#DejaVuSans-111\"/>\n      <use x=\"853.857422\" xlink:href=\"#DejaVuSans-114\"/>\n      <use x=\"894.970703\" xlink:href=\"#DejaVuSans-116\"/>\n      <use x=\"934.179688\" xlink:href=\"#DejaVuSans-32\"/>\n      <use x=\"965.966797\" xlink:href=\"#DejaVuSans-118\"/>\n      <use x=\"1025.146484\" xlink:href=\"#DejaVuSans-101\"/>\n      <use x=\"1086.669922\" xlink:href=\"#DejaVuSans-99\"/>\n      <use x=\"1141.650391\" xlink:href=\"#DejaVuSans-116\"/>\n      <use x=\"1180.859375\" xlink:href=\"#DejaVuSans-111\"/>\n      <use x=\"1242.041016\" xlink:href=\"#DejaVuSans-114\"/>\n      <use x=\"1283.154297\" xlink:href=\"#DejaVuSans-115\"/>\n     </g>\n    </g>\n   </g>\n   <g id=\"line2d_12\">\n    <path clip-path=\"url(#pe5ab759306)\" d=\"M 62.183807 17.083636 \nL 62.457761 127.4126 \nL 63.06655 159.591882 \nL 63.979732 173.383002 \nL 66.11049 187.174123 \nL 70.980796 203.263763 \nL 77.677465 205.562283 \nL 87.418076 203.263763 \nL 92.592775 205.562283 \nL 132.468399 214.756364 \nL 366.547443 210.159323 \n\" style=\"fill:none;stroke:#1f77b4;stroke-linecap:square;stroke-width:1.5;\"/>\n   </g>\n   <g id=\"patch_3\">\n    <path d=\"M 46.965625 224.64 \nL 46.965625 7.2 \n\" style=\"fill:none;stroke:#000000;stroke-linecap:square;stroke-linejoin:miter;stroke-width:0.8;\"/>\n   </g>\n   <g id=\"patch_4\">\n    <path d=\"M 381.765625 224.64 \nL 381.765625 7.2 \n\" style=\"fill:none;stroke:#000000;stroke-linecap:square;stroke-linejoin:miter;stroke-width:0.8;\"/>\n   </g>\n   <g id=\"patch_5\">\n    <path d=\"M 46.965625 224.64 \nL 381.765625 224.64 \n\" style=\"fill:none;stroke:#000000;stroke-linecap:square;stroke-linejoin:miter;stroke-width:0.8;\"/>\n   </g>\n   <g id=\"patch_6\">\n    <path d=\"M 46.965625 7.2 \nL 381.765625 7.2 \n\" style=\"fill:none;stroke:#000000;stroke-linecap:square;stroke-linejoin:miter;stroke-width:0.8;\"/>\n   </g>\n  </g>\n </g>\n <defs>\n  <clipPath id=\"pe5ab759306\">\n   <rect height=\"217.44\" width=\"334.8\" x=\"46.965625\" y=\"7.2\"/>\n  </clipPath>\n </defs>\n</svg>\n",
      "image/png": "[encoded data removed]"
     },
     "metadata": {
      "needs_background": "light"
     }
    }
   ],
   "source": [
    "n_of_s_vectors = []\n",
    "c_values = ['0.1','1','3','6','13','29','51','83','1e+2','231','1e+3',]\n",
    "for c in c_values:\n",
    "    options = \"-t 3 -c {}\".format(c)\n",
    "    model = svm.svm_train(y_train, X_train, options)\n",
    "    n_of_s_vectors.append(len(model.get_SV()))\n",
    "\n",
    "c_values = list(map(float,c_values))\n",
    "plt.plot(c_values,n_of_s_vectors)\n",
    "plt.ylabel('number of support vectors')\n",
    "plt.xlabel('penalty constant')\n",
    "plt.show()"
   ]
  },
  {
   "cell_type": "markdown",
   "metadata": {},
   "source": [
    "## Task 4 - 15 pts\n",
    "\n",
    "Please investigate the changes in the hyperplane when you remove one of the support vectors, vs., one data point that is not a support vector."
   ]
  },
  {
   "cell_type": "code",
   "execution_count": 6,
   "metadata": {},
   "outputs": [],
   "source": [
    "# main training model\n",
    "options = \"-t 0 -c 0.1\"\n",
    "main_model = svm.svm_train(y_train, X_train, options)"
   ]
  },
  {
   "cell_type": "code",
   "execution_count": 7,
   "metadata": {
    "scrolled": true
   },
   "outputs": [],
   "source": [
    "index = main_model.get_sv_indices()[0]-1\n",
    "\n",
    "sv_removed_x_train = np.concatenate([X_train[:index],X_train[index+1:]])\n",
    "sv_removed_y_train = np.concatenate([y_train[:index],y_train[index+1:]])\n",
    "\n",
    "model_sv_removed = svm.svm_train(sv_removed_y_train, sv_removed_x_train, options)"
   ]
  },
  {
   "cell_type": "code",
   "execution_count": 8,
   "metadata": {},
   "outputs": [],
   "source": [
    "# one non support vector removed model\n",
    "\n",
    "index = -1\n",
    "for i in range(len(X_train)):\n",
    "    data = X_train[i,:]\n",
    "    for sv in main_model.get_SV():\n",
    "        if (list(data) != list(sv.values())[:-1]):\n",
    "            index = i\n",
    "            break\n",
    "    if index != -1:\n",
    "        break\n",
    "\n",
    "non_sv_removed_x_train = np.concatenate([X_train[:index],X_train[index+1:]])\n",
    "non_sv_removed_y_train = np.concatenate([y_train[:index],y_train[index+1:]])\n",
    "\n",
    "model_non_sv_removed = svm.svm_train(non_sv_removed_y_train, non_sv_removed_x_train, options)"
   ]
  },
  {
   "cell_type": "code",
   "execution_count": 9,
   "metadata": {},
   "outputs": [
    {
     "output_type": "stream",
     "name": "stdout",
     "text": "Accuracy = 83.3333% (100/120) (classification)\nAccuracy = 85% (102/120) (classification)\nAccuracy = 83.3333% (100/120) (classification)\n"
    },
    {
     "output_type": "execute_result",
     "data": {
      "text/plain": "([-1.0,\n  -1.0,\n  -1.0,\n  1.0,\n  -1.0,\n  -1.0,\n  1.0,\n  -1.0,\n  -1.0,\n  1.0,\n  -1.0,\n  -1.0,\n  -1.0,\n  1.0,\n  1.0,\n  -1.0,\n  -1.0,\n  -1.0,\n  -1.0,\n  -1.0,\n  -1.0,\n  1.0,\n  1.0,\n  -1.0,\n  -1.0,\n  1.0,\n  1.0,\n  -1.0,\n  1.0,\n  -1.0,\n  -1.0,\n  1.0,\n  1.0,\n  -1.0,\n  1.0,\n  -1.0,\n  1.0,\n  1.0,\n  -1.0,\n  1.0,\n  -1.0,\n  1.0,\n  -1.0,\n  1.0,\n  -1.0,\n  -1.0,\n  -1.0,\n  -1.0,\n  -1.0,\n  1.0,\n  1.0,\n  1.0,\n  1.0,\n  1.0,\n  1.0,\n  -1.0,\n  -1.0,\n  1.0,\n  1.0,\n  -1.0,\n  -1.0,\n  -1.0,\n  -1.0,\n  1.0,\n  -1.0,\n  -1.0,\n  -1.0,\n  1.0,\n  1.0,\n  -1.0,\n  1.0,\n  1.0,\n  -1.0,\n  1.0,\n  -1.0,\n  -1.0,\n  1.0,\n  1.0,\n  -1.0,\n  -1.0,\n  1.0,\n  1.0,\n  -1.0,\n  1.0,\n  1.0,\n  1.0,\n  -1.0,\n  1.0,\n  -1.0,\n  -1.0,\n  1.0,\n  -1.0,\n  -1.0,\n  1.0,\n  -1.0,\n  1.0,\n  1.0,\n  -1.0,\n  -1.0,\n  1.0,\n  1.0,\n  -1.0,\n  -1.0,\n  -1.0,\n  -1.0,\n  -1.0,\n  -1.0,\n  1.0,\n  -1.0,\n  -1.0,\n  -1.0,\n  1.0,\n  -1.0,\n  -1.0,\n  -1.0,\n  -1.0,\n  -1.0,\n  -1.0,\n  1.0,\n  1.0],\n (83.33333333333334, 0.6666666666666666, 0.43183673469387757),\n [[-1.3919809760766488],\n  [-1.6248085652097661],\n  [-1.833251491783073],\n  [0.24781679700282427],\n  [-1.6247634954257981],\n  [-2.367314098282761],\n  [1.3809479826915574],\n  [-1.5682434412433228],\n  [-0.7964957815746556],\n  [1.238460980469619],\n  [-0.5527471476480823],\n  [-0.8255073911962056],\n  [-1.5933094315272598],\n  [2.2293688571123793],\n  [0.06385974245128467],\n  [-0.9570953900263788],\n  [-1.372423197991248],\n  [-0.7378897516566971],\n  [-0.7380978262221667],\n  [-1.2304308014155725],\n  [-0.9366202930207681],\n  [1.8976443203445483],\n  [1.1631615459949571],\n  [-1.2469097810945733],\n  [-2.0218624295911996],\n  [0.9761781811705886],\n  [2.887274320255968],\n  [-0.7833163714442692],\n  [1.3663923315467765],\n  [-1.2795489870450367],\n  [-0.20421401620446278],\n  [1.5017270574343364],\n  [0.1793953413137635],\n  [-0.8931625944906656],\n  [0.5216060196088448],\n  [-0.5378172473692405],\n  [1.5459850923349532],\n  [1.922529161435768],\n  [-1.076279394064204],\n  [1.3200332863265598],\n  [-0.7915697405766917],\n  [1.0963999864366496],\n  [-0.6723947068420648],\n  [0.6383424672011475],\n  [-0.17720884474160603],\n  [-1.9176990653312898],\n  [-0.9315044346741181],\n  [-1.657290987752915],\n  [-1.3233990400023237],\n  [1.2925635409718819],\n  [0.3533464096159067],\n  [1.282431630404433],\n  [1.5350947695235473],\n  [0.4609530156486644],\n  [1.512446550130657],\n  [-0.9381585423621346],\n  [-1.3011165181408078],\n  [0.32465781301346824],\n  [0.5009544191987942],\n  [-0.9512784440860103],\n  [-0.7220357527691701],\n  [-0.9370230872340033],\n  [-1.7171947673322394],\n  [2.7602295835706476],\n  [-1.8066211917890687],\n  [-2.1447531710616516],\n  [-1.8508633774621377],\n  [0.6261004701291759],\n  [0.06245366983748707],\n  [-1.7138653424069228],\n  [1.5321883463929253],\n  [1.2927693403754428],\n  [-1.286897534815662],\n  [2.6143896650894396],\n  [-1.5225799658446972],\n  [-0.5186030348436512],\n  [0.37475565355976376],\n  [0.49067259907475536],\n  [-2.4504221255563348],\n  [-1.328117730312169],\n  [0.28814376996924],\n  [0.4624030274612471],\n  [-0.9517373546378367],\n  [1.0328403095924086],\n  [1.7804050108124514],\n  [2.05393102946005],\n  [-1.3418084514710098],\n  [1.1065080814730612],\n  [-1.0760152997528303],\n  [-1.705171159714596],\n  [0.5293390901835353],\n  [-1.2287726104253784],\n  [-1.04253198444699],\n  [0.2867389209425782],\n  [-0.9012339019057884],\n  [1.2051540618327201],\n  [1.1035088558102186],\n  [-1.6914337070191119],\n  [-0.8460209601696618],\n  [2.1630476225481776],\n  [1.2197219651205473],\n  [-1.7343884759943793],\n  [-0.10609459100135521],\n  [-0.9896830499698088],\n  [-1.142159839497891],\n  [-1.0242312807262728],\n  [-0.4964338033608823],\n  [1.499141093780323],\n  [-1.2079842700602517],\n  [-0.8112474833580319],\n  [-1.9343583998517484],\n  [2.167213004643191],\n  [-1.320714047083301],\n  [-1.6741939008051185],\n  [-0.42330315641739436],\n  [-0.21882882432396866],\n  [-0.7702418773990933],\n  [-1.8366353777602333],\n  [0.110232398892945],\n  [2.020695359045089]])"
     },
     "metadata": {},
     "execution_count": 9
    }
   ],
   "source": [
    "svm.svm_predict(y_test, X_test, main_model)\n",
    "svm.svm_predict(y_test, X_test, model_sv_removed)\n",
    "svm.svm_predict(y_test, X_test, model_non_sv_removed)"
   ]
  },
  {
   "cell_type": "code",
   "execution_count": 10,
   "metadata": {},
   "outputs": [
    {
     "output_type": "stream",
     "name": "stdout",
     "text": "Main Model: 74\nSV removed Model: 73\nNon-SV removed Model: 74\n"
    }
   ],
   "source": [
    "print(\"Main Model:\", len(main_model.get_SV()))\n",
    "print(\"SV removed Model:\", len(model_sv_removed.get_SV()))\n",
    "print(\"Non-SV removed Model:\", len(model_non_sv_removed.get_SV()))"
   ]
  },
  {
   "cell_type": "code",
   "execution_count": 11,
   "metadata": {},
   "outputs": [
    {
     "output_type": "execute_result",
     "data": {
      "text/plain": "True"
     },
     "metadata": {},
     "execution_count": 11
    }
   ],
   "source": [
    "# All support vectors of the main model and the model trained with one non-sv data point missing data are exactly the same.\n",
    "main_model.get_SV() == model_non_sv_removed.get_SV()"
   ]
  },
  {
   "cell_type": "code",
   "execution_count": 12,
   "metadata": {},
   "outputs": [],
   "source": [
    "main_model_sv_arr = X_train[np.array(main_model.get_sv_indices())-1,:]\n",
    "model_sv_removed_sv_arr = sv_removed_x_train[np.array(model_sv_removed.get_sv_indices())-1,:]\n",
    "model_non_sv_removed_sv_arr = non_sv_removed_x_train[np.array(model_non_sv_removed.get_sv_indices())-1,:]"
   ]
  },
  {
   "cell_type": "code",
   "execution_count": 13,
   "metadata": {},
   "outputs": [],
   "source": [
    "main_model_weights = np.matmul(np.array(main_model.get_sv_coef()).T, main_model_sv_arr)\n",
    "model_sv_removed_weights = np.matmul(np.array(model_sv_removed.get_sv_coef()).T, model_sv_removed_sv_arr)\n",
    "model_non_sv_removed_weights = np.matmul(np.array(model_non_sv_removed.get_sv_coef()).T, model_non_sv_removed_sv_arr)"
   ]
  },
  {
   "cell_type": "code",
   "execution_count": 14,
   "metadata": {},
   "outputs": [
    {
     "output_type": "stream",
     "name": "stdout",
     "text": "[[-0.06778313  0.29866279  0.58209869  0.10258802  0.08010807  0.0009001\n   0.05038589 -0.5104812   0.1776037   0.13125647  0.15436003  0.8823835\n   0.47563777]]\n"
    }
   ],
   "source": [
    "print(main_model_weights)"
   ]
  },
  {
   "cell_type": "code",
   "execution_count": 15,
   "metadata": {},
   "outputs": [
    {
     "output_type": "stream",
     "name": "stdout",
     "text": "[[-0.05855969  0.2866585   0.63597603  0.13676829  0.05694247 -0.00680732\n   0.0800928  -0.50702316  0.2076861   0.15059528  0.16007441  0.94541053\n   0.42195553]]\n"
    }
   ],
   "source": [
    "print(model_sv_removed_weights)"
   ]
  },
  {
   "cell_type": "code",
   "execution_count": 16,
   "metadata": {},
   "outputs": [
    {
     "output_type": "stream",
     "name": "stdout",
     "text": "[[-0.06778313  0.29866279  0.58209869  0.10258802  0.08010807  0.0009001\n   0.05038589 -0.5104812   0.1776037   0.13125647  0.15436003  0.8823835\n   0.47563777]]\n"
    }
   ],
   "source": [
    "print(model_non_sv_removed_weights)"
   ]
  },
  {
   "cell_type": "markdown",
   "metadata": {},
   "source": [
    "As we can see, when we removed a non-sv data point, hyperplane did not change. On the contrary, removing sv data point changed the hyperplane, as expected."
   ]
  },
  {
   "cell_type": "markdown",
   "metadata": {},
   "source": [
    "### Bonus Task - 10 pts\n",
    "\n",
    "Use Python and [CVXOPT](http://cvxopt.org) QP solver to implement the hard margin SVM. "
   ]
  },
  {
   "cell_type": "code",
   "execution_count": null,
   "metadata": {},
   "outputs": [],
   "source": []
  }
 ],
 "metadata": {
  "kernelspec": {
   "display_name": "Python 3.7.7 64-bit ('venv': venv)",
   "language": "python",
   "name": "python37764bitvenvvenv1b8c15ae977848d5a474ae1fa358d4ec"
  },
  "language_info": {
   "codemirror_mode": {
    "name": "ipython",
    "version": 3
   },
   "file_extension": ".py",
   "mimetype": "text/x-python",
   "name": "python",
   "nbconvert_exporter": "python",
   "pygments_lexer": "ipython3",
   "version": "3.7.7-final"
  }
 },
 "nbformat": 4,
 "nbformat_minor": 4
}